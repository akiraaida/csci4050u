{
 "cells": [
  {
   "cell_type": "code",
   "execution_count": 11,
   "metadata": {
    "collapsed": true
   },
   "outputs": [],
   "source": [
    "import os\n",
    "import math\n",
    "import random\n",
    "import tensorflow as tf\n",
    "import numpy as np\n",
    "from sklearn.utils import shuffle\n",
    "import librosa\n",
    "from matplotlib import pyplot as plt\n",
    "%matplotlib inline"
   ]
  },
  {
   "cell_type": "code",
   "execution_count": 49,
   "metadata": {},
   "outputs": [
    {
     "name": "stdout",
     "output_type": "stream",
     "text": [
      "1/10\n"
     ]
    },
    {
     "ename": "ValueError",
     "evalue": "all the input array dimensions except for the concatenation axis must match exactly",
     "output_type": "error",
     "traceback": [
      "\u001b[0;31m---------------------------------------------------------------------------\u001b[0m",
      "\u001b[0;31mValueError\u001b[0m                                Traceback (most recent call last)",
      "\u001b[0;32m<ipython-input-49-6b2289ca8af2>\u001b[0m in \u001b[0;36m<module>\u001b[0;34m()\u001b[0m\n\u001b[1;32m     58\u001b[0m \u001b[0;32mfor\u001b[0m \u001b[0macceptedWord\u001b[0m \u001b[0;32min\u001b[0m \u001b[0macceptedWords\u001b[0m\u001b[0;34m:\u001b[0m\u001b[0;34m\u001b[0m\u001b[0m\n\u001b[1;32m     59\u001b[0m     \u001b[0mprint\u001b[0m\u001b[0;34m(\u001b[0m\u001b[0mstr\u001b[0m\u001b[0;34m(\u001b[0m\u001b[0mcount\u001b[0m\u001b[0;34m)\u001b[0m \u001b[0;34m+\u001b[0m \u001b[0;34m\"/\"\u001b[0m \u001b[0;34m+\u001b[0m \u001b[0mstr\u001b[0m\u001b[0;34m(\u001b[0m\u001b[0mNUM_LABELS\u001b[0m\u001b[0;34m)\u001b[0m\u001b[0;34m)\u001b[0m\u001b[0;34m\u001b[0m\u001b[0m\n\u001b[0;32m---> 60\u001b[0;31m     \u001b[0mfeatures\u001b[0m\u001b[0;34m,\u001b[0m \u001b[0moneHot\u001b[0m \u001b[0;34m=\u001b[0m \u001b[0mloadSoundFiles\u001b[0m\u001b[0;34m(\u001b[0m\u001b[0mrootDir\u001b[0m \u001b[0;34m+\u001b[0m \u001b[0macceptedWord\u001b[0m \u001b[0;34m+\u001b[0m \u001b[0;34m\"/\"\u001b[0m\u001b[0;34m,\u001b[0m \u001b[0mcount\u001b[0m\u001b[0;34m-\u001b[0m\u001b[0;36m1\u001b[0m\u001b[0;34m)\u001b[0m\u001b[0;34m\u001b[0m\u001b[0m\n\u001b[0m\u001b[1;32m     61\u001b[0m     \u001b[0mdata\u001b[0m\u001b[0;34m.\u001b[0m\u001b[0mappend\u001b[0m\u001b[0;34m(\u001b[0m\u001b[0mfeatures\u001b[0m\u001b[0;34m)\u001b[0m\u001b[0;34m\u001b[0m\u001b[0m\n\u001b[1;32m     62\u001b[0m     \u001b[0moneHots\u001b[0m\u001b[0;34m.\u001b[0m\u001b[0mappend\u001b[0m\u001b[0;34m(\u001b[0m\u001b[0moneHot\u001b[0m\u001b[0;34m)\u001b[0m\u001b[0;34m\u001b[0m\u001b[0m\n",
      "\u001b[0;32m<ipython-input-49-6b2289ca8af2>\u001b[0m in \u001b[0;36mloadSoundFiles\u001b[0;34m(filePath, index)\u001b[0m\n\u001b[1;32m     31\u001b[0m             \u001b[0mmfccs\u001b[0m \u001b[0;34m=\u001b[0m \u001b[0mnp\u001b[0m\u001b[0;34m.\u001b[0m\u001b[0mlib\u001b[0m\u001b[0;34m.\u001b[0m\u001b[0mpad\u001b[0m\u001b[0;34m(\u001b[0m\u001b[0mmfccs\u001b[0m\u001b[0;34m,\u001b[0m \u001b[0;34m(\u001b[0m\u001b[0;36m52\u001b[0m\u001b[0;34m,\u001b[0m \u001b[0;36m52\u001b[0m\u001b[0;34m)\u001b[0m\u001b[0;34m,\u001b[0m \u001b[0;34m'constant'\u001b[0m\u001b[0;34m,\u001b[0m \u001b[0mconstant_values\u001b[0m\u001b[0;34m=\u001b[0m\u001b[0;34m(\u001b[0m\u001b[0;36m0\u001b[0m\u001b[0;34m,\u001b[0m \u001b[0;36m0\u001b[0m\u001b[0;34m)\u001b[0m\u001b[0;34m)\u001b[0m\u001b[0;34m\u001b[0m\u001b[0m\n\u001b[1;32m     32\u001b[0m             \u001b[0minternalFeatures\u001b[0m \u001b[0;34m=\u001b[0m \u001b[0mnp\u001b[0m\u001b[0;34m.\u001b[0m\u001b[0mhstack\u001b[0m\u001b[0;34m(\u001b[0m\u001b[0;34m[\u001b[0m\u001b[0mmel\u001b[0m\u001b[0;34m,\u001b[0m \u001b[0mmfccs\u001b[0m\u001b[0;34m]\u001b[0m\u001b[0;34m)\u001b[0m\u001b[0;34m\u001b[0m\u001b[0m\n\u001b[0;32m---> 33\u001b[0;31m             \u001b[0mfeatures\u001b[0m \u001b[0;34m=\u001b[0m \u001b[0mnp\u001b[0m\u001b[0;34m.\u001b[0m\u001b[0mvstack\u001b[0m\u001b[0;34m(\u001b[0m\u001b[0;34m[\u001b[0m\u001b[0mfeatures\u001b[0m\u001b[0;34m,\u001b[0m \u001b[0minternalFeatures\u001b[0m\u001b[0;34m]\u001b[0m\u001b[0;34m)\u001b[0m\u001b[0;34m\u001b[0m\u001b[0m\n\u001b[0m\u001b[1;32m     34\u001b[0m             \u001b[0mcounter\u001b[0m \u001b[0;34m+=\u001b[0m \u001b[0;36m1\u001b[0m\u001b[0;34m\u001b[0m\u001b[0m\n\u001b[1;32m     35\u001b[0m \u001b[0;34m\u001b[0m\u001b[0m\n",
      "\u001b[0;32m/usr/lib/python3.6/site-packages/numpy/core/shape_base.py\u001b[0m in \u001b[0;36mvstack\u001b[0;34m(tup)\u001b[0m\n\u001b[1;32m    235\u001b[0m \u001b[0;34m\u001b[0m\u001b[0m\n\u001b[1;32m    236\u001b[0m     \"\"\"\n\u001b[0;32m--> 237\u001b[0;31m     \u001b[0;32mreturn\u001b[0m \u001b[0m_nx\u001b[0m\u001b[0;34m.\u001b[0m\u001b[0mconcatenate\u001b[0m\u001b[0;34m(\u001b[0m\u001b[0;34m[\u001b[0m\u001b[0matleast_2d\u001b[0m\u001b[0;34m(\u001b[0m\u001b[0m_m\u001b[0m\u001b[0;34m)\u001b[0m \u001b[0;32mfor\u001b[0m \u001b[0m_m\u001b[0m \u001b[0;32min\u001b[0m \u001b[0mtup\u001b[0m\u001b[0;34m]\u001b[0m\u001b[0;34m,\u001b[0m \u001b[0;36m0\u001b[0m\u001b[0;34m)\u001b[0m\u001b[0;34m\u001b[0m\u001b[0m\n\u001b[0m\u001b[1;32m    238\u001b[0m \u001b[0;34m\u001b[0m\u001b[0m\n\u001b[1;32m    239\u001b[0m \u001b[0;32mdef\u001b[0m \u001b[0mhstack\u001b[0m\u001b[0;34m(\u001b[0m\u001b[0mtup\u001b[0m\u001b[0;34m)\u001b[0m\u001b[0;34m:\u001b[0m\u001b[0;34m\u001b[0m\u001b[0m\n",
      "\u001b[0;31mValueError\u001b[0m: all the input array dimensions except for the concatenation axis must match exactly"
     ]
    }
   ],
   "source": [
    "NUM_LABELS = 10\n",
    "\n",
    "def genOneHot(indexToBeOne):\n",
    "    global NUM_LABELS\n",
    "    oneHot = []\n",
    "    for i in range(NUM_LABELS):\n",
    "        if i == indexToBeOne:\n",
    "            oneHot.append(1)\n",
    "        else:\n",
    "            oneHot.append(0)\n",
    "    return np.array(oneHot)\n",
    "\n",
    "def extractFeatures(raw, sr):\n",
    "    stft = np.abs(librosa.stft(raw))\n",
    "    mel = np.mean(librosa.feature.melspectrogram(raw, sr=sr).T,axis=0)\n",
    "    \n",
    "    return mel\n",
    "    \n",
    "def loadSoundFiles(filePath, index):\n",
    "    IDEAL_SIZE = 22050\n",
    "    NUM_SAMPLES = 1000\n",
    "    oneHots = []\n",
    "    soundFiles = os.listdir(filePath)\n",
    "    features = np.empty((0, 144))\n",
    "    \n",
    "    counter = 0\n",
    "    for soundFile in soundFiles:\n",
    "        raw, sr = librosa.load(filePath + soundFile)\n",
    "        if len(raw) == IDEAL_SIZE:\n",
    "            mel = extractFeatures(raw, sr)\n",
    "            mel = np.lib.pad(mel, (8,8), 'constant', constant_values=(0, 0))\n",
    "            internalFeatures = np.hstack([mel])\n",
    "            features = np.vstack([features, internalFeatures])\n",
    "            counter += 1\n",
    "            \n",
    "            oneHot = genOneHot(index)\n",
    "            if len(oneHots) == 0:\n",
    "                oneHots = oneHot\n",
    "            else:\n",
    "                oneHots = np.vstack((oneHots, oneHot))\n",
    "        \n",
    "            if (counter % (NUM_SAMPLES / 10)) == 0:\n",
    "                print(str((counter/NUM_SAMPLES) * 100) + \"% complete\")\n",
    "        \n",
    "            if counter == NUM_SAMPLES:\n",
    "                break\n",
    "            \n",
    "    print(\"The one hot signature for this word is: \" + str(oneHots[0]))\n",
    "    print(\"The number of samples for this word is: \" + str(len(features)))\n",
    "        \n",
    "    return np.array(features), oneHots\n",
    "    \n",
    "data = []\n",
    "oneHots = []\n",
    "rootDir = \"./train/audio/\"\n",
    "acceptedWords = [\"yes\", \"no\", \"up\", \"down\", \"left\", \"right\", \"on\", \"off\", \"stop\", \"go\"]\n",
    "count = 1\n",
    "for acceptedWord in acceptedWords:\n",
    "    print(str(count) + \"/\" + str(NUM_LABELS))\n",
    "    features, oneHot = loadSoundFiles(rootDir + acceptedWord + \"/\", count-1)\n",
    "    data.append(features)\n",
    "    oneHots.append(oneHot)\n",
    "    count += 1\n",
    "    \n",
    "print(\"DONE\")"
   ]
  },
  {
   "cell_type": "code",
   "execution_count": 4,
   "metadata": {},
   "outputs": [
    {
     "name": "stdout",
     "output_type": "stream",
     "text": [
      "Finished formatting the data to remove bias and to be ready for training\n"
     ]
    }
   ],
   "source": [
    "dataTraining = []\n",
    "trainingLabels = []\n",
    "dataTest = []\n",
    "testLabels = []\n",
    "\n",
    "minSamples = 1000000\n",
    "for training in data:\n",
    "    if minSamples > len(training):\n",
    "        minSamples = len(training)\n",
    "\n",
    "numTrainingSamples = int(minSamples * 0.8)\n",
    "numTestSamples = int(minSamples * 0.2)\n",
    "\n",
    "for datasubset in data:\n",
    "    if len(dataTraining) == 0:\n",
    "        dataTraining = datasubset[:numTrainingSamples]\n",
    "        dataTest = datasubset[numTrainingSamples:numTrainingSamples+numTestSamples]\n",
    "    else:\n",
    "        dataTraining = np.vstack((dataTraining, datasubset[:numTrainingSamples]))\n",
    "        dataTest = np.vstack((dataTest, datasubset[numTrainingSamples:numTrainingSamples+numTestSamples]))\n",
    "               \n",
    "for oneHotInfo in oneHots:\n",
    "    if len(trainingLabels) == 0:\n",
    "        trainingLabels = oneHotInfo[:numTrainingSamples]\n",
    "        testLabels = oneHotInfo[numTrainingSamples:numTrainingSamples+numTestSamples]\n",
    "    else:\n",
    "        trainingLabels = np.vstack((trainingLabels, oneHotInfo[:numTrainingSamples]))\n",
    "        testLabels = np.vstack((testLabels, oneHotInfo[numTrainingSamples:numTrainingSamples+numTestSamples]))\n",
    "\n",
    "print(\"Finished formatting the data to remove bias and to be ready for training\")"
   ]
  },
  {
   "cell_type": "code",
   "execution_count": 5,
   "metadata": {},
   "outputs": [
    {
     "name": "stdout",
     "output_type": "stream",
     "text": [
      "Randomized the order of the data and labels keeping the relationship 1 to 1\n"
     ]
    }
   ],
   "source": [
    "dataTraining, trainingLabels = shuffle(dataTraining, trainingLabels)\n",
    "dataTest, testLabels = shuffle(dataTest, testLabels)\n",
    "print(\"Randomized the order of the data and labels keeping the relationship 1 to 1\")"
   ]
  },
  {
   "cell_type": "code",
   "execution_count": 6,
   "metadata": {
    "collapsed": true
   },
   "outputs": [],
   "source": [
    "def getBatch(data, labels, batchSize):\n",
    "    randomIndexes = np.random.choice(len(data), batchSize)\n",
    "    return data[randomIndexes], labels[randomIndexes]"
   ]
  },
  {
   "cell_type": "code",
   "execution_count": 9,
   "metadata": {
    "scrolled": false
   },
   "outputs": [
    {
     "name": "stdout",
     "output_type": "stream",
     "text": [
      "1% complete: Training Error = 0.822656. Cross Validation Error = 11.4417\n",
      "2% complete: Training Error = 0.748096. Cross Validation Error = 5.32659\n",
      "3% complete: Training Error = 0.62498. Cross Validation Error = 3.87864\n",
      "4% complete: Training Error = 0.615127. Cross Validation Error = 4.21392\n",
      "5% complete: Training Error = 0.561508. Cross Validation Error = 5.94808\n",
      "6% complete: Training Error = 0.581883. Cross Validation Error = 5.89089\n",
      "7% complete: Training Error = 0.467992. Cross Validation Error = 8.03191\n",
      "8% complete: Training Error = 0.459053. Cross Validation Error = 5.52584\n",
      "9% complete: Training Error = 0.432372. Cross Validation Error = 6.33124\n",
      "10% complete: Training Error = 0.286649. Cross Validation Error = 3.33333\n",
      "11% complete: Training Error = 0.665954. Cross Validation Error = 3.49244\n",
      "12% complete: Training Error = 0.375993. Cross Validation Error = 6.07497\n",
      "13% complete: Training Error = 0.315573. Cross Validation Error = 4.47717\n",
      "14% complete: Training Error = 0.456155. Cross Validation Error = 2.50371\n",
      "15% complete: Training Error = 0.503387. Cross Validation Error = 5.34532\n",
      "16% complete: Training Error = 0.471152. Cross Validation Error = 4.56713\n",
      "17% complete: Training Error = 0.313214. Cross Validation Error = 6.3529\n",
      "18% complete: Training Error = 0.333961. Cross Validation Error = 4.73168\n",
      "19% complete: Training Error = 0.343519. Cross Validation Error = 6.6413\n",
      "20% complete: Training Error = 0.308307. Cross Validation Error = 3.1582\n",
      "21% complete: Training Error = 0.316085. Cross Validation Error = 2.80762\n",
      "22% complete: Training Error = 0.366714. Cross Validation Error = 7.03298\n",
      "23% complete: Training Error = 0.196771. Cross Validation Error = 6.73717\n",
      "24% complete: Training Error = 0.259071. Cross Validation Error = 3.07722\n",
      "25% complete: Training Error = 0.255721. Cross Validation Error = 6.33595\n",
      "26% complete: Training Error = 0.39141. Cross Validation Error = 3.52704\n",
      "27% complete: Training Error = 0.264118. Cross Validation Error = 5.1246\n",
      "28% complete: Training Error = 0.349646. Cross Validation Error = 6.53275\n",
      "29% complete: Training Error = 0.303382. Cross Validation Error = 3.86968\n",
      "30% complete: Training Error = 0.373633. Cross Validation Error = 4.44768\n",
      "31% complete: Training Error = 0.432138. Cross Validation Error = 4.75835\n",
      "32% complete: Training Error = 0.382414. Cross Validation Error = 6.49365\n",
      "33% complete: Training Error = 0.271849. Cross Validation Error = 5.59976\n",
      "34% complete: Training Error = 0.285894. Cross Validation Error = 5.84959\n",
      "35% complete: Training Error = 0.208094. Cross Validation Error = 8.96542\n",
      "36% complete: Training Error = 0.226207. Cross Validation Error = 3.06801\n",
      "37% complete: Training Error = 0.290043. Cross Validation Error = 2.83468\n",
      "38% complete: Training Error = 0.261511. Cross Validation Error = 4.58373\n",
      "39% complete: Training Error = 0.280901. Cross Validation Error = 2.63336\n",
      "40% complete: Training Error = 0.307301. Cross Validation Error = 3.15874\n",
      "41% complete: Training Error = 0.295439. Cross Validation Error = 2.42096\n",
      "42% complete: Training Error = 0.315621. Cross Validation Error = 40.2088\n",
      "43% complete: Training Error = 0.277969. Cross Validation Error = 4.13765\n",
      "44% complete: Training Error = 0.39516. Cross Validation Error = 6.38256\n",
      "45% complete: Training Error = 0.333225. Cross Validation Error = 3.68637\n",
      "46% complete: Training Error = 0.281734. Cross Validation Error = 2.53914\n",
      "47% complete: Training Error = 0.231462. Cross Validation Error = 1.78617\n",
      "48% complete: Training Error = 0.205209. Cross Validation Error = 2.5904\n",
      "49% complete: Training Error = 0.101329. Cross Validation Error = 2.084\n",
      "50% complete: Training Error = 0.266004. Cross Validation Error = 2.40735\n",
      "51% complete: Training Error = 0.266808. Cross Validation Error = 2.45288\n",
      "52% complete: Training Error = 0.291562. Cross Validation Error = 4.80694\n",
      "53% complete: Training Error = 0.263938. Cross Validation Error = 7.90575\n",
      "54% complete: Training Error = 0.214149. Cross Validation Error = 4.40964\n",
      "55% complete: Training Error = 0.146099. Cross Validation Error = 4.17676\n",
      "56% complete: Training Error = 0.266009. Cross Validation Error = 1.85014\n",
      "57% complete: Training Error = 0.217159. Cross Validation Error = 5.03894\n",
      "58% complete: Training Error = 0.179101. Cross Validation Error = 4.33166\n",
      "59% complete: Training Error = 0.38411. Cross Validation Error = 9.98023\n",
      "60% complete: Training Error = 0.225796. Cross Validation Error = 1.10707\n",
      "61% complete: Training Error = 0.18913. Cross Validation Error = 4.89817\n",
      "62% complete: Training Error = 0.210053. Cross Validation Error = 3.48277\n",
      "63% complete: Training Error = 0.180414. Cross Validation Error = 3.23056\n",
      "64% complete: Training Error = 0.174837. Cross Validation Error = 1.55123\n",
      "65% complete: Training Error = 0.277931. Cross Validation Error = 1.94641\n",
      "66% complete: Training Error = 0.144204. Cross Validation Error = 2.77377\n",
      "67% complete: Training Error = 0.225324. Cross Validation Error = 4.06607\n",
      "68% complete: Training Error = 0.188855. Cross Validation Error = 2.76678\n",
      "69% complete: Training Error = 0.124146. Cross Validation Error = 3.2315\n",
      "70% complete: Training Error = 0.182216. Cross Validation Error = 7.70801\n",
      "71% complete: Training Error = 0.171252. Cross Validation Error = 2.98313\n",
      "72% complete: Training Error = 0.196629. Cross Validation Error = 1.97371\n",
      "73% complete: Training Error = 0.107994. Cross Validation Error = 1.9721\n",
      "74% complete: Training Error = 0.239292. Cross Validation Error = 1.90452\n",
      "75% complete: Training Error = 0.250134. Cross Validation Error = 3.43325\n",
      "76% complete: Training Error = 0.166992. Cross Validation Error = 3.97415\n",
      "77% complete: Training Error = 0.279416. Cross Validation Error = 2.70566\n",
      "78% complete: Training Error = 0.189725. Cross Validation Error = 2.73282\n",
      "79% complete: Training Error = 0.123702. Cross Validation Error = 2.47955\n",
      "80% complete: Training Error = 0.224347. Cross Validation Error = 1.89505\n",
      "81% complete: Training Error = 0.0597847. Cross Validation Error = 2.98187\n",
      "82% complete: Training Error = 0.195428. Cross Validation Error = 2.04163\n",
      "83% complete: Training Error = 0.104906. Cross Validation Error = 2.08965\n",
      "84% complete: Training Error = 0.191604. Cross Validation Error = 5.45079\n",
      "85% complete: Training Error = 0.141045. Cross Validation Error = 1.76413\n",
      "86% complete: Training Error = 0.205745. Cross Validation Error = 2.76427\n",
      "87% complete: Training Error = 0.185822. Cross Validation Error = 2.77285\n",
      "88% complete: Training Error = 0.16829. Cross Validation Error = 3.73805\n",
      "89% complete: Training Error = 0.117294. Cross Validation Error = 1.83459\n",
      "90% complete: Training Error = 0.18603. Cross Validation Error = 2.29136\n",
      "91% complete: Training Error = 0.16919. Cross Validation Error = 3.03643\n",
      "92% complete: Training Error = 0.209231. Cross Validation Error = 9.42962\n",
      "93% complete: Training Error = 0.182513. Cross Validation Error = 2.18977\n",
      "94% complete: Training Error = 0.1199. Cross Validation Error = 8.52601\n",
      "95% complete: Training Error = 0.256388. Cross Validation Error = 1.99898\n",
      "96% complete: Training Error = 0.153086. Cross Validation Error = 2.21321\n",
      "97% complete: Training Error = 0.0879537. Cross Validation Error = 2.93244\n",
      "98% complete: Training Error = 0.192409. Cross Validation Error = 4.04619\n",
      "99% complete: Training Error = 0.104368. Cross Validation Error = 1.57788\n",
      "100% complete: Training Error = 0.152367. Cross Validation Error = 1.39843\n"
     ]
    }
   ],
   "source": [
    "tf.reset_default_graph()\n",
    "\n",
    "NUM_SAMPLES = 144\n",
    "NUM_CLASSIFICATIONS = NUM_LABELS\n",
    "DENSE_LAYER = 256\n",
    "RATE = 0.01\n",
    "BATCH_SIZE = 100\n",
    "EPOCHS = 5000\n",
    "ITERATIONS_PER_EPOCH = 100\n",
    "\n",
    "x = tf.placeholder(tf.float32, (None, NUM_SAMPLES))\n",
    "ref = tf.placeholder(tf.float32, (None, NUM_CLASSIFICATIONS))\n",
    "logits1 = tf.layers.dense(inputs=x, units=DENSE_LAYER, activation=tf.nn.relu, name=\"L1\")\n",
    "logits2 = tf.layers.dense(inputs=logits1, units=NUM_CLASSIFICATIONS, activation=None, name=\"L2\")\n",
    "cost = tf.reduce_mean(tf.nn.softmax_cross_entropy_with_logits(logits=logits2, labels=ref))\n",
    "\n",
    "optimizer = tf.train.GradientDescentOptimizer(RATE).minimize(cost)\n",
    "s = tf.Session()\n",
    "s.run(tf.global_variables_initializer())\n",
    "\n",
    "count = 0\n",
    "trainingErrors = []\n",
    "crossErrors = []\n",
    "for _ in range(EPOCHS):\n",
    "    inputData, correctAns = getBatch(dataTraining, trainingLabels, BATCH_SIZE)\n",
    "    crossData, crossAns = getBatch(dataTraining, trainingLabels, BATCH_SIZE)\n",
    "    for _ in range(ITERATIONS_PER_EPOCH):\n",
    "        err, _ = s.run((cost, optimizer), feed_dict={x: inputData, ref: correctAns})\n",
    "        crossErr = s.run((cost), feed_dict={x: crossData, ref: crossAns})\n",
    "        trainingErrors.append(err)\n",
    "        crossErrors.append(crossErr)\n",
    "        count += 1\n",
    "        if (count % ((EPOCHS * ITERATIONS_PER_EPOCH) / 100)) == 0:\n",
    "            print(str(int(((count / (EPOCHS * ITERATIONS_PER_EPOCH)) * 100) + 0.5)) + \"% complete: Training Error = \" + str(err) + \". Cross Validation Error = \" + str(crossErr))"
   ]
  },
  {
   "cell_type": "code",
   "execution_count": 18,
   "metadata": {},
   "outputs": [
    {
     "data": {
      "image/png": "[encoded data removed]",
      "text/plain": [
       "<matplotlib.figure.Figure at 0x7fec4e927390>"
      ]
     },
     "metadata": {},
     "output_type": "display_data"
    }
   ],
   "source": [
    "epochs = np.linspace(0, len(trainingErrors), len(trainingErrors))\n",
    "\n",
    "plt.plot(epochs, trainingErrors)\n",
    "plt.ylabel('Training Error')\n",
    "plt.xlabel('Epochs')\n",
    "plt.title('Test Error vs. Epochs')\n",
    "plt.show()"
   ]
  },
  {
   "cell_type": "code",
   "execution_count": 19,
   "metadata": {},
   "outputs": [
    {
     "data": {
      "image/png": "[encoded data removed]",
      "text/plain": [
       "<matplotlib.figure.Figure at 0x7fec54a7ec88>"
      ]
     },
     "metadata": {},
     "output_type": "display_data"
    }
   ],
   "source": [
    "plt.plot(epochs, crossErrors)\n",
    "plt.ylabel('Cross Validation Error')\n",
    "plt.xlabel('Epochs')\n",
    "plt.title('Cross Validation Error vs. Epochs')\n",
    "plt.show()"
   ]
  },
  {
   "cell_type": "code",
   "execution_count": 20,
   "metadata": {
    "scrolled": false
   },
   "outputs": [
    {
     "name": "stdout",
     "output_type": "stream",
     "text": [
      "The mlp neural network is 76.1375% accurate on the training data\n",
      "['yes', 'no', 'up', 'down', 'left', 'right', 'on', 'off', 'stop', 'go']\n",
      "[ 92.375  82.5    83.     66.5    66.5    77.75   67.375  79.5    85.125\n",
      "  60.75 ]\n"
     ]
    }
   ],
   "source": [
    "probability = tf.nn.softmax(logits2)\n",
    "prediction = tf.argmax((probability), axis=1)\n",
    "guesses = s.run((prediction), feed_dict={x: dataTraining})\n",
    "\n",
    "count = 0\n",
    "corr = 0\n",
    "categoriesRight = np.zeros(10)\n",
    "for trainingLabel in trainingLabels:\n",
    "    if (np.argmax(trainingLabel)) == guesses[count]:\n",
    "        corr += 1\n",
    "        categoriesRight[np.argmax(trainingLabel)] += 1\n",
    "    count += 1\n",
    "\n",
    "print(\"The mlp neural network is \" + str((corr / len(guesses)) * 100) + \"% accurate on the training data\")\n",
    "print(acceptedWords)\n",
    "count = 0\n",
    "print((categoriesRight / numTrainingSamples) * 100)"
   ]
  },
  {
   "cell_type": "code",
   "execution_count": 22,
   "metadata": {},
   "outputs": [
    {
     "name": "stdout",
     "output_type": "stream",
     "text": [
      "The mlp neural network is 40.2% accurate on the test data\n",
      "['yes', 'no', 'up', 'down', 'left', 'right', 'on', 'off', 'stop', 'go']\n",
      "[ 66.   44.5  48.   26.   28.   28.   32.   48.   48.5  33. ]\n"
     ]
    }
   ],
   "source": [
    "probability = tf.nn.softmax(logits2)\n",
    "prediction = tf.argmax((probability), axis=1)\n",
    "guesses = s.run((prediction), feed_dict={x: dataTest})\n",
    "\n",
    "count = 0\n",
    "corr = 0\n",
    "categoriesRight = np.zeros(10)\n",
    "for testLabel in testLabels:\n",
    "    if (np.argmax(testLabel)) == guesses[count]:\n",
    "        corr += 1\n",
    "        categoriesRight[np.argmax(testLabel)] += 1\n",
    "    count += 1\n",
    "    \n",
    "print(\"The mlp neural network is \" + str((corr / len(guesses)) * 100) + \"% accurate on the test data\")\n",
    "print(acceptedWords)\n",
    "print((categoriesRight / numTestSamples) * 100)"
   ]
  },
  {
   "cell_type": "code",
   "execution_count": 23,
   "metadata": {
    "collapsed": true
   },
   "outputs": [],
   "source": [
    "cnnTraining = dataTraining\n",
    "cnnTrainingLabels = trainingLabels\n",
    "cnnTest = dataTest\n",
    "cnnTestLabels = testLabels\n",
    "\n",
    "def fixShape(data):\n",
    "    return data.reshape(-1, 1, 144, 1)"
   ]
  },
  {
   "cell_type": "code",
   "execution_count": null,
   "metadata": {},
   "outputs": [],
   "source": [
    "tf.reset_default_graph()\n",
    "\n",
    "NUM_SAMPLES = 144\n",
    "DENSE_LAYER = 256\n",
    "NUM_CLASSIFICATIONS = NUM_LABELS\n",
    "RATE = 0.01\n",
    "BATCH_SIZE = 100\n",
    "EPOCHS = 5000\n",
    "ITERATIONS_PER_EPOCH = 100\n",
    "DROP_OUT_RATE = 0.5\n",
    "\n",
    "class N():\n",
    "    pass\n",
    "\n",
    "model = N()\n",
    "\n",
    "model.x = tf.placeholder(tf.float32, (None, 1, None, 1))\n",
    "model.ref = tf.placeholder(tf.float32, (None, NUM_CLASSIFICATIONS))\n",
    "model.drop = tf.placeholder(tf.float32)\n",
    "model.L1 = tf.layers.conv2d(model.x, filters=16, kernel_size=(1,5), padding=\"SAME\", activation=tf.nn.relu)\n",
    "model.L2 = tf.layers.max_pooling2d(inputs=model.L1, pool_size=(1,2), strides=(1, 2))\n",
    "model.L3 = tf.layers.conv2d(model.L2, filters=32, kernel_size=(1,5), padding=\"SAME\", activation=tf.nn.relu)\n",
    "model.L4 = tf.layers.max_pooling2d(inputs=model.L3, pool_size=(1,2), strides=(1, 2))\n",
    "model.L5 = tf.reshape(model.L4, (-1, 36*32))\n",
    "model.L6 = tf.layers.dense(inputs=model.L5, units=DENSE_LAYER)\n",
    "model.L7 = tf.nn.dropout(model.L6, model.drop)\n",
    "model.L8 = tf.layers.dense(inputs=model.L7, units=NUM_CLASSIFICATIONS)\n",
    "model.err = tf.reduce_mean(tf.nn.softmax_cross_entropy_with_logits(logits=model.L8, labels=model.ref))\n",
    "\n",
    "optimizer = tf.train.GradientDescentOptimizer(RATE).minimize(model.err)\n",
    "s = tf.Session()\n",
    "s.run(tf.global_variables_initializer())\n",
    "\n",
    "# test = s.run((model.L8), feed_dict={model.x: fixShape(cnnTraining[:10]), model.drop: DROP_OUT_RATE})\n",
    "# print(test.shape)\n",
    "\n",
    "count = 0\n",
    "trainingErrors = []\n",
    "crossErrors = []\n",
    "for _ in range(EPOCHS):\n",
    "    inputData, correctAns = getBatch(cnnTraining, cnnTrainingLabels, BATCH_SIZE)\n",
    "    inputData = fixShape(inputData)\n",
    "    crossData, crossAns = getBatch(cnnTraining, cnnTrainingLabels, BATCH_SIZE)\n",
    "    crossData = fixShape(crossData)\n",
    "    for _ in range(ITERATIONS_PER_EPOCH):\n",
    "        err, _ = s.run((model.err, optimizer), feed_dict={model.x: inputData, model.ref: correctAns, model.drop: DROP_OUT_RATE})\n",
    "        crossErr = s.run((model.err), feed_dict={model.x: crossData, model.ref: crossAns, model.drop: DROP_OUT_RATE})\n",
    "        trainingErrors.append(err)\n",
    "        crossErrors.append(crossErr)\n",
    "        count += 1\n",
    "        if (count % ((EPOCHS * ITERATIONS_PER_EPOCH) / 100)) == 0:\n",
    "            print(str(int(((count / (EPOCHS * ITERATIONS_PER_EPOCH)) * 100) + 0.5)) + \"% complete: Training Error = \" + str(err) + \". Cross Validation Error = \" + str(crossErr))"
   ]
  },
  {
   "cell_type": "code",
   "execution_count": 84,
   "metadata": {},
   "outputs": [
    {
     "data": {
      "image/png": "[encoded data removed]",
      "text/plain": [
       "<matplotlib.figure.Figure at 0x7fec5ba46278>"
      ]
     },
     "metadata": {},
     "output_type": "display_data"
    }
   ],
   "source": [
    "epochs = np.linspace(0, len(trainingErrors), len(trainingErrors))\n",
    "\n",
    "plt.plot(epochs, trainingErrors)\n",
    "plt.ylabel('Training Error')\n",
    "plt.xlabel('Epochs')\n",
    "plt.title('Test Error vs. Epochs')\n",
    "plt.show()"
   ]
  },
  {
   "cell_type": "code",
   "execution_count": 85,
   "metadata": {},
   "outputs": [
    {
     "data": {
      "image/png": "[encoded data removed]",
      "text/plain": [
       "<matplotlib.figure.Figure at 0x7fec4445cdd8>"
      ]
     },
     "metadata": {},
     "output_type": "display_data"
    }
   ],
   "source": [
    "plt.plot(epochs, crossErrors)\n",
    "plt.ylabel('Cross Validation Error')\n",
    "plt.xlabel('Epochs')\n",
    "plt.title('Cross Validation Error vs. Epochs')\n",
    "plt.show()"
   ]
  },
  {
   "cell_type": "code",
   "execution_count": 90,
   "metadata": {},
   "outputs": [
    {
     "name": "stdout",
     "output_type": "stream",
     "text": [
      "The cnn neural network is 59.137499999999996% accurate on the training data\n",
      "['yes', 'no', 'up', 'down', 'left', 'right', 'on', 'off', 'stop', 'go']\n",
      "[ 76.375  50.     55.625  44.25   65.75   58.125  74.5    62.125  52.125\n",
      "  52.5  ]\n"
     ]
    }
   ],
   "source": [
    "probability = tf.nn.softmax(model.L8)\n",
    "prediction = tf.argmax((probability), axis=1)\n",
    "guesses = s.run((prediction), feed_dict={model.x: fixShape(cnnTraining), model.drop: DROP_OUT_RATE})\n",
    "\n",
    "count = 0\n",
    "corr = 0\n",
    "categoriesRight = np.zeros(10)\n",
    "for cnnTrainingLabel in cnnTrainingLabels:\n",
    "    if (np.argmax(cnnTrainingLabel)) == guesses[count]:\n",
    "        corr += 1\n",
    "        categoriesRight[np.argmax(cnnTrainingLabel)] += 1\n",
    "    count += 1\n",
    "\n",
    "print(\"The cnn neural network is \" + str((corr / len(guesses)) * 100) + \"% accurate on the training data\")\n",
    "print(acceptedWords)\n",
    "count = 0\n",
    "print((categoriesRight / numTrainingSamples) * 100)"
   ]
  },
  {
   "cell_type": "code",
   "execution_count": 94,
   "metadata": {},
   "outputs": [
    {
     "name": "stdout",
     "output_type": "stream",
     "text": [
      "The cnn neural network is 39.0% accurate on the test data\n",
      "['yes', 'no', 'up', 'down', 'left', 'right', 'on', 'off', 'stop', 'go']\n",
      "[ 56.5  29.   34.5  22.5  44.   35.5  53.5  46.   37.5  31. ]\n"
     ]
    }
   ],
   "source": [
    "probability = tf.nn.softmax(model.L8)\n",
    "prediction = tf.argmax((probability), axis=1)\n",
    "guesses = s.run((prediction), feed_dict={model.x: fixShape(cnnTest), model.drop: DROP_OUT_RATE})\n",
    "\n",
    "count = 0\n",
    "corr = 0\n",
    "categoriesRight = np.zeros(10)\n",
    "for cnnTestLabel in cnnTestLabels:\n",
    "    if (np.argmax(cnnTestLabel)) == guesses[count]:\n",
    "        corr += 1\n",
    "        categoriesRight[np.argmax(cnnTestLabel)] += 1\n",
    "    count += 1\n",
    "    \n",
    "print(\"The cnn neural network is \" + str((corr / len(guesses)) * 100) + \"% accurate on the test data\")\n",
    "print(acceptedWords)\n",
    "print((categoriesRight / numTestSamples) * 100)"
   ]
  },
  {
   "cell_type": "code",
   "execution_count": null,
   "metadata": {
    "collapsed": true
   },
   "outputs": [],
   "source": []
  }
 ],
 "metadata": {
  "kernelspec": {
   "display_name": "Python 3",
   "language": "python",
   "name": "python3"
  },
  "language_info": {
   "codemirror_mode": {
    "name": "ipython",
    "version": 3
   },
   "file_extension": ".py",
   "mimetype": "text/x-python",
   "name": "python",
   "nbconvert_exporter": "python",
   "pygments_lexer": "ipython3",
   "version": "3.6.2"
  }
 },
 "nbformat": 4,
 "nbformat_minor": 2
}
