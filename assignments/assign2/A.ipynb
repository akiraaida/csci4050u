{
 "cells": [
  {
   "cell_type": "markdown",
   "metadata": {},
   "source": [
    "## Question A\n",
    "[10] Load the MNIST data using tensorflow.examples.tutorials.mnist.input_data.  Plot a 10 x 4 grid of the sample writings.  Each row must show the sample of the same digit."
   ]
  },
  {
   "cell_type": "code",
   "execution_count": 1,
   "metadata": {},
   "outputs": [
    {
     "name": "stdout",
     "output_type": "stream",
     "text": [
      "Extracting MNIST_data/train-images-idx3-ubyte.gz\n",
      "Extracting MNIST_data/train-labels-idx1-ubyte.gz\n",
      "Extracting MNIST_data/t10k-images-idx3-ubyte.gz\n",
      "Extracting MNIST_data/t10k-labels-idx1-ubyte.gz\n"
     ]
    }
   ],
   "source": [
    "import tensorflow as tf\n",
    "import numpy as np\n",
    "from matplotlib import pyplot as plt\n",
    "from matplotlib import gridspec\n",
    "from tensorflow.examples.tutorials.mnist import input_data\n",
    "%matplotlib inline\n",
    "\n",
    "mnist = input_data.read_data_sets(\"MNIST_data/\", one_hot=True)"
   ]
  },
  {
   "cell_type": "code",
   "execution_count": 2,
   "metadata": {},
   "outputs": [
    {
     "data": {
      "image/png": "[encoded data removed]",
      "text/plain": [
       "<matplotlib.figure.Figure at 0x7fe968f5ec18>"
      ]
     },
     "metadata": {},
     "output_type": "display_data"
    }
   ],
   "source": [
    "# A helper function to determine if more numbers of a specific type need to be added to the 2-D array\n",
    "def checkFull(data):\n",
    "    for i in data:\n",
    "        if len(i) is not 4:\n",
    "            return False\n",
    "    return True\n",
    "\n",
    "# Initialize the list with empty lists to create a 2-D array\n",
    "data = []\n",
    "for i in range(10):\n",
    "    data.append([])\n",
    "\n",
    "# Populate the 2-D array to get 4 images of each number from 0-9\n",
    "index = 0\n",
    "for i in mnist.train.labels:\n",
    "    num = np.where(i == 1)[0][0]\n",
    "    if (len(data[num]) < 4):\n",
    "        data[num].append(index)\n",
    "    if checkFull(data):\n",
    "        break\n",
    "    index += 1\n",
    "    \n",
    "# Plot the numbers in a grid\n",
    "fig = plt.figure()\n",
    "gs = gridspec.GridSpec(10, 4)\n",
    "for i in range(10):\n",
    "    for j in range(4):\n",
    "        ax = fig.add_subplot(gs[i,j])\n",
    "        ax.axis('off')\n",
    "        ax.imshow(mnist.train.images[data[i][j]].reshape(28,28), cmap='gray_r')"
   ]
  }
 ],
 "metadata": {
  "kernelspec": {
   "display_name": "Python 3",
   "language": "python",
   "name": "python3"
  },
  "language_info": {
   "codemirror_mode": {
    "name": "ipython",
    "version": 3
   },
   "file_extension": ".py",
   "mimetype": "text/x-python",
   "name": "python",
   "nbconvert_exporter": "python",
   "pygments_lexer": "ipython3",
   "version": "3.6.2"
  }
 },
 "nbformat": 4,
 "nbformat_minor": 2
}
