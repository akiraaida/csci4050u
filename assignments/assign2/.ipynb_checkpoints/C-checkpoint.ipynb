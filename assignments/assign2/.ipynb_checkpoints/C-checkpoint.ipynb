{
 "cells": [
  {
   "cell_type": "markdown",
   "metadata": {},
   "source": [
    "## Question C\n",
    "Increase the number of neurons.  Plot the test error of the best trained linear models with increasing number of neurons.  You can experiment with different network sizes.  Plot the test error with respect to the neurons.\n"
   ]
  },
  {
   "cell_type": "code",
   "execution_count": 7,
   "metadata": {},
   "outputs": [
    {
     "name": "stdout",
     "output_type": "stream",
     "text": [
      "Extracting MNIST_data/train-images-idx3-ubyte.gz\n",
      "Extracting MNIST_data/train-labels-idx1-ubyte.gz\n",
      "Extracting MNIST_data/t10k-images-idx3-ubyte.gz\n",
      "Extracting MNIST_data/t10k-labels-idx1-ubyte.gz\n"
     ]
    }
   ],
   "source": [
    "import tensorflow as tf\n",
    "import numpy as np\n",
    "from matplotlib import pyplot as plt\n",
    "from matplotlib import gridspec\n",
    "from tensorflow.examples.tutorials.mnist import input_data\n",
    "%matplotlib inline\n",
    "\n",
    "mnist = input_data.read_data_sets(\"MNIST_data/\", one_hot=True)"
   ]
  },
  {
   "cell_type": "code",
   "execution_count": 15,
   "metadata": {
    "scrolled": true
   },
   "outputs": [
    {
     "name": "stdout",
     "output_type": "stream",
     "text": [
      "10.0% Complete: The test error for this iteration is 16.69%.\n",
      "20.0% Complete: The test error for this iteration is 4.95%.\n",
      "30.0% Complete: The test error for this iteration is 4.08%.\n",
      "40.0% Complete: The test error for this iteration is 3.32%.\n",
      "50.0% Complete: The test error for this iteration is 3.38%.\n",
      "60.0% Complete: The test error for this iteration is 3.12%.\n",
      "70.0% Complete: The test error for this iteration is 2.82%.\n",
      "80.0% Complete: The test error for this iteration is 3.1%.\n",
      "90.0% Complete: The test error for this iteration is 2.96%.\n",
      "100.0% Complete: The test error for this iteration is 2.72%.\n"
     ]
    }
   ],
   "source": [
    "# Reset the graph\n",
    "tf.reset_default_graph()\n",
    "\n",
    "# Constants\n",
    "numPixels = 784\n",
    "firstLayerOutput = 10\n",
    "numClassifications = 10\n",
    "rate = 0.2\n",
    "epochs = 2000\n",
    "iterationsPerEpoch = 10\n",
    "numIterations = 10\n",
    "\n",
    "# Initialize values to graph later or use for later calculations\n",
    "numNeurons = []\n",
    "testErrors = []\n",
    "\n",
    "# Perform the neural net calculation 20 times with an increasing number of neurons from the hidden layer\n",
    "for i in range(1, numIterations + 1):\n",
    "    # Reset the graph\n",
    "    tf.reset_default_graph()\n",
    "    \n",
    "    # Shape = (N x 784). N images of size 28 pixels by 28 pixels\n",
    "    x = tf.placeholder(tf.float32, [None, numPixels])\n",
    "    # Shape = (N x 10). N images with one hot values indicating if it's 0-9\n",
    "    ref = tf.placeholder(tf.float32, [None, numClassifications])\n",
    "    # Shape = (N x (10 * (i*2))). The hidden layer outputs (10*(i*2)) neurons which are fed to the output layer\n",
    "    logits1 = tf.layers.dense(inputs=x, units=firstLayerOutput * (i*1), activation=tf.nn.relu, name=\"L1\")\n",
    "    # Shape = (N x 10). The logit values of the likelihood that each image is 0-9.\n",
    "    logits2 = tf.layers.dense(inputs=logits1, units=numClassifications, activation=tf.nn.relu, name=\"L2\")\n",
    "    \n",
    "    # Convert the logit values into a probability from 0-1 (indicating confidence percentage) for each classification from 0-9\n",
    "    probability = tf.nn.softmax(logits2)\n",
    "    # Shape = (N). Take the highest percentile value in the prediction as the neural network's guess\n",
    "    prediction = tf.argmax((probability), axis=1)\n",
    "\n",
    "    # Calculate the cross entropy, doing the softmax function internally\n",
    "    cross_entropy = tf.nn.softmax_cross_entropy_with_logits(logits=logits2, labels=ref)\n",
    "    # Take the average of the cross entropy values to determine the overall cost function\n",
    "    cost = tf.reduce_mean(cross_entropy)\n",
    "\n",
    "    # Take the largest 1 hot value for each image's label to get the classification of each image\n",
    "    labels = []\n",
    "    for label in mnist.test.labels:\n",
    "        labels.append(np.argmax(label))\n",
    "    # Shape = (N). Convert the list into a numpy array for later comparisons\n",
    "    labels = np.array(labels)\n",
    "    \n",
    "    # Initialize the optimizer\n",
    "    optimizer = tf.train.GradientDescentOptimizer(rate).minimize(cost)\n",
    "    s = tf.Session()\n",
    "    s.run(tf.global_variables_initializer())\n",
    "\n",
    "    # Run the training on 2000 different image sets of size 100 \n",
    "    for _ in range(epochs):\n",
    "        inputData, correctAns = mnist.train.next_batch(100)\n",
    "        validationInput, validationCorrect = mnist.train.next_batch(100)\n",
    "        # Run the training on the image set of size 100, 10 times\n",
    "        for _ in range(iterationsPerEpoch):\n",
    "            # Do the training\n",
    "            err, _ = s.run((cost, optimizer), feed_dict={x: inputData, ref: correctAns})\n",
    "\n",
    "    # Get the highest percentile probability value for each image\n",
    "    predic = s.run((prediction), feed_dict={x: mnist.test.images})\n",
    "    # Check if the highest percentile is the same as the correct answer\n",
    "    answers = np.equal(labels, predic)\n",
    "    # Sum the number of correct answers and determine the error\n",
    "    corrGuesses = np.sum(answers)\n",
    "    testErr = corrGuesses / len(answers)   \n",
    "    \n",
    "    # Add the values to be tracked into their respective lists\n",
    "    numNeurons.append(firstLayerOutput * (i*2))\n",
    "    testErrors.append((1 - testErr) * 100)\n",
    "    s.close()\n",
    "    \n",
    "    # Print indicator to show that the it is not frozen\n",
    "    print(str((i / numIterations)*100) + \"% Complete: The test error for this iteration is \" + str((1-testErr)*100) + \"%.\")"
   ]
  },
  {
   "cell_type": "markdown",
   "metadata": {
    "collapsed": true
   },
   "source": [
    "It would appear that generally as the number of neurons increases, the test error decreases. As the number of neurons continues to increase, the improvement on the test error becomes less and less significant until it evens out at around 3% test error. However, there is sometimes a large spike in the graph where the test error increases quite significantly. I believe the reason behind this would be that the next_batch returns 100 random images, if these sets of 100 images intersect quite a few times over the 2000 sets during training then there would be overfitting on those images. Which in turn would throw off the test error since the overfitting would cause a problems on untrained images."
   ]
  },
  {
   "cell_type": "code",
   "execution_count": 16,
   "metadata": {},
   "outputs": [
    {
     "data": {
      "image/png": "[encoded data removed]",
      "text/plain": [
       "<matplotlib.figure.Figure at 0x7fe8df5da0b8>"
      ]
     },
     "metadata": {},
     "output_type": "display_data"
    }
   ],
   "source": [
    "plt.plot(numNeurons, testErrors)\n",
    "plt.ylabel('Test Error')\n",
    "plt.xlabel('Number of Neurons in the Hidden Layer')\n",
    "plt.title('Test Error vs. Number of Neurons in the Hidden Layer')\n",
    "plt.show()"
   ]
  }
 ],
 "metadata": {
  "kernelspec": {
   "display_name": "Python 3",
   "language": "python",
   "name": "python3"
  },
  "language_info": {
   "codemirror_mode": {
    "name": "ipython",
    "version": 3
   },
   "file_extension": ".py",
   "mimetype": "text/x-python",
   "name": "python",
   "nbconvert_exporter": "python",
   "pygments_lexer": "ipython3",
   "version": "3.6.2"
  }
 },
 "nbformat": 4,
 "nbformat_minor": 2
}
