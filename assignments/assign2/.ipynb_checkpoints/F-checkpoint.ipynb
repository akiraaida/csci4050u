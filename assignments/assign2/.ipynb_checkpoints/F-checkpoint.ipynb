{
 "cells": [
  {
   "cell_type": "markdown",
   "metadata": {},
   "source": [
    "## Question F\n",
    "Increase your network size with additional neurons."
   ]
  },
  {
   "cell_type": "markdown",
   "metadata": {},
   "source": [
    "### Question F.1\n",
    "[10] Repeat the training and evaluate the test error and compare with (E.5).  Comment on your observation."
   ]
  },
  {
   "cell_type": "code",
   "execution_count": 1,
   "metadata": {},
   "outputs": [
    {
     "name": "stdout",
     "output_type": "stream",
     "text": [
      "Extracting MNIST_data/train-images-idx3-ubyte.gz\n",
      "Extracting MNIST_data/train-labels-idx1-ubyte.gz\n",
      "Extracting MNIST_data/t10k-images-idx3-ubyte.gz\n",
      "Extracting MNIST_data/t10k-labels-idx1-ubyte.gz\n"
     ]
    }
   ],
   "source": [
    "import tensorflow as tf\n",
    "import numpy as np\n",
    "from matplotlib import pyplot as plt\n",
    "from matplotlib import gridspec\n",
    "from tensorflow.examples.tutorials.mnist import input_data\n",
    "%matplotlib inline\n",
    "\n",
    "mnist = input_data.read_data_sets(\"MNIST_data/\", one_hot=True)"
   ]
  },
  {
   "cell_type": "code",
   "execution_count": 10,
   "metadata": {},
   "outputs": [
    {
     "name": "stdout",
     "output_type": "stream",
     "text": [
      "DONE\n"
     ]
    }
   ],
   "source": [
    "# Reset the graph\n",
    "tf.reset_default_graph()\n",
    "\n",
    "# Constants\n",
    "numPixels = 784\n",
    "layerOutput = 150\n",
    "numClassifications = 10\n",
    "rate = 0.2\n",
    "epochs = 2000\n",
    "iterationsPerEpoch = 10\n",
    "\n",
    "# Shape = (N x 784). N images of size 28 pixels by 28 pixels\n",
    "x = tf.placeholder(tf.float32, [None, numPixels])\n",
    "# Shape = (N x 10). N images with one hot values indicating if it's 0-9\n",
    "ref = tf.placeholder(tf.float32, [None, numClassifications])\n",
    "# Shape = (N x 50). The hidden layer outputs 50 neurons which are fed to the next hidden layer\n",
    "logits1 = tf.layers.dense(inputs=x, units=layerOutput, activation=tf.nn.softplus, name=\"L1\")\n",
    "# Shape = (N x 50). The hidden layer outputs 50 neurons which are fed to the next hidden layer\n",
    "logits2 = tf.layers.dense(inputs=logits1, units=layerOutput, activation=tf.nn.relu, name=\"L2\")\n",
    "# Shape = (N x 50). The hidden layer outputs 50 neurons which are fed to the next hidden layer\n",
    "logits3 = tf.layers.dense(inputs=logits2, units=layerOutput, activation=tf.nn.softplus, name=\"L3\")\n",
    "# Shape = (N x 50). The hidden layer outputs 50 neurons which are fed to the next hidden layer\n",
    "logits4 = tf.layers.dense(inputs=logits3, units=layerOutput, activation=tf.nn.relu, name=\"L4\")\n",
    "# Shape = (N x 50). The hidden layer outputs 50 neurons which are fed to the next hidden layer\n",
    "logits5 = tf.layers.dense(inputs=logits4, units=numClassifications, activation=tf.nn.softplus, name=\"L5\")\n",
    "\n",
    "# Convert the logit values into a probability from 0-1 (indicating confidence percentage) for each classification from 0-9\n",
    "probability = tf.nn.softmax(logits5)\n",
    "# Shape = (N). Take the highest percentile value in the prediction as the neural network's guess\n",
    "prediction = tf.argmax((probability), axis=1)\n",
    "\n",
    "# Calculate the cross entropy, doing the softmax function internally\n",
    "cross_entropy = tf.nn.softmax_cross_entropy_with_logits(logits=logits5, labels=ref)\n",
    "# Take the average of the cross entropy values\n",
    "cost = tf.reduce_mean(cross_entropy)\n",
    "\n",
    "# Take the largest 1 hot value for each image's label to get the classification of each image\n",
    "labels = []\n",
    "for label in mnist.test.labels:\n",
    "    labels.append(np.argmax(label))\n",
    "# Shape = (N). Convert the list into a numpy array for later comparisons\n",
    "labels = np.array(labels)\n",
    "\n",
    "# Initialize the optimizer\n",
    "optimizer = tf.train.GradientDescentOptimizer(rate).minimize(cost)\n",
    "s = tf.Session()\n",
    "s.run(tf.global_variables_initializer())\n",
    "\n",
    "# Initialize values to graph later or use for later calculations\n",
    "errList = []\n",
    "epochList = []\n",
    "\n",
    "# Counter to keep track of the number of overall training iterations\n",
    "count = 0\n",
    "# Run the training on 2000 different image sets of size 100 \n",
    "for _ in range(epochs):\n",
    "    inputData, correctAns = mnist.train.next_batch(100)\n",
    "    validationInput, validationCorrect = mnist.train.next_batch(100)\n",
    "    # Run the training on the image set of size 100, 10 times\n",
    "    for _ in range(iterationsPerEpoch):\n",
    "        # Do the training\n",
    "        err, _ = s.run((cost, optimizer), feed_dict={x: inputData, ref: correctAns})\n",
    "        \n",
    "        # Add the values to be tracked into their respective lists    \n",
    "        errList.append(err)\n",
    "        epochList.append(count)\n",
    "        count += 1\n",
    "\n",
    "# Print done to indicate that the training is done\n",
    "print(\"DONE\")"
   ]
  },
  {
   "cell_type": "code",
   "execution_count": 11,
   "metadata": {},
   "outputs": [
    {
     "name": "stdout",
     "output_type": "stream",
     "text": [
      "The test error for the final iteration of the training is: 3.17 percent.\n"
     ]
    }
   ],
   "source": [
    "# Check the test error\n",
    "predic = s.run((prediction), feed_dict={x: mnist.test.images})\n",
    "answers = np.equal(labels, predic)\n",
    "corrGuesses = np.sum(answers)\n",
    "testErr = corrGuesses / len(answers)   \n",
    "print(\"The test error for the final iteration of the training is: \" + str((1 - testErr) * 100) + \" percent.\")"
   ]
  },
  {
   "cell_type": "markdown",
   "metadata": {},
   "source": [
    "The test error has not decreased by very much by increasing the number of neurons. It would appear that by just using a multilayer perceptron, even with different activation functions that the test error can not be much better than 2-3%."
   ]
  }
 ],
 "metadata": {
  "kernelspec": {
   "display_name": "Python 3",
   "language": "python",
   "name": "python3"
  },
  "language_info": {
   "codemirror_mode": {
    "name": "ipython",
    "version": 3
   },
   "file_extension": ".py",
   "mimetype": "text/x-python",
   "name": "python",
   "nbconvert_exporter": "python",
   "pygments_lexer": "ipython3",
   "version": "3.6.2"
  }
 },
 "nbformat": 4,
 "nbformat_minor": 2
}
