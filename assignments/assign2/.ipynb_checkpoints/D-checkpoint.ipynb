{
 "cells": [
  {
   "cell_type": "markdown",
   "metadata": {},
   "source": [
    "## Question D\n",
    "Build a multi-layer perceptron network.  The input is the 784-dimensional vector, 28x28=784.  Use two hidden layers of 256 and 256 neurons each.  The output layer is 10.  The activations functions are all linear."
   ]
  },
  {
   "cell_type": "markdown",
   "metadata": {},
   "source": [
    "### Question D.1\n",
    "[5] Build the model, and tune the learning rate to make sure that the training converges.  Using the same cross-validation as in (B)."
   ]
  },
  {
   "cell_type": "code",
   "execution_count": 1,
   "metadata": {},
   "outputs": [
    {
     "name": "stdout",
     "output_type": "stream",
     "text": [
      "Extracting MNIST_data/train-images-idx3-ubyte.gz\n",
      "Extracting MNIST_data/train-labels-idx1-ubyte.gz\n",
      "Extracting MNIST_data/t10k-images-idx3-ubyte.gz\n",
      "Extracting MNIST_data/t10k-labels-idx1-ubyte.gz\n"
     ]
    }
   ],
   "source": [
    "import tensorflow as tf\n",
    "import numpy as np\n",
    "from matplotlib import pyplot as plt\n",
    "from matplotlib import gridspec\n",
    "from tensorflow.examples.tutorials.mnist import input_data\n",
    "%matplotlib inline\n",
    "\n",
    "mnist = input_data.read_data_sets(\"MNIST_data/\", one_hot=True)"
   ]
  },
  {
   "cell_type": "code",
   "execution_count": 7,
   "metadata": {},
   "outputs": [
    {
     "name": "stdout",
     "output_type": "stream",
     "text": [
      "DONE\n"
     ]
    }
   ],
   "source": [
    "# Reset the graph\n",
    "tf.reset_default_graph()\n",
    "\n",
    "# Constants\n",
    "numPixels = 784\n",
    "firstLayerOutput = 256\n",
    "secondLayerOutput = 256\n",
    "numClassifications = 10\n",
    "rate = 0.2\n",
    "epochs = 2000\n",
    "iterationsPerEpoch = 10\n",
    "\n",
    "# Shape = (N x 784). N images of size 28 pixels by 28 pixels\n",
    "x = tf.placeholder(tf.float32, [None, numPixels])\n",
    "# Shape = (N x 10). N images with one hot values indicating if it's 0-9\n",
    "ref = tf.placeholder(tf.float32, [None, numClassifications])\n",
    "# Shape = (N x 256). The hidden layer outputs 256 neurons which are fed to the second hidden layer\n",
    "logits1 = tf.layers.dense(inputs=x, units=firstLayerOutput, activation=tf.nn.relu, name=\"L1\")\n",
    "# Shape = (N x 256). The hidden layer outputs 256 neurons which are fed to the output layer\n",
    "logits2 = tf.layers.dense(inputs=logits1, units=secondLayerOutput, activation=tf.nn.relu, name=\"L2\")\n",
    "# Shape = (N x 10). The logit values of the likelihood that each image is 0-9.\n",
    "logits3 = tf.layers.dense(inputs=logits2, units=numClassifications, activation=tf.nn.relu, name=\"L3\")\n",
    "\n",
    "# Convert the logit values into a probability from 0-1 (indicating confidence percentage) for each classification from 0-9\n",
    "probability = tf.nn.softmax(logits3)\n",
    "# Shape = (N). Take the highest percentile value in the prediction as the neural network's guess\n",
    "prediction = tf.argmax((probability), axis=1)\n",
    "\n",
    "# Calculate the cross entropy, doing the softmax function internally\n",
    "cross_entropy = tf.nn.softmax_cross_entropy_with_logits(logits=logits3, labels=ref)\n",
    "# Take the average of the cross entropy values\n",
    "cost = tf.reduce_mean(cross_entropy)\n",
    "\n",
    "# Take the largest 1 hot value for each image's label to get the classification of each image\n",
    "labels = []\n",
    "for label in mnist.test.labels:\n",
    "    labels.append(np.argmax(label))\n",
    "# Shape = (N). Convert the list into a numpy array for later comparisons\n",
    "labels = np.array(labels)\n",
    "\n",
    "# Initialize the optimizer\n",
    "optimizer = tf.train.GradientDescentOptimizer(rate).minimize(cost)\n",
    "s = tf.Session()\n",
    "s.run(tf.global_variables_initializer())\n",
    "\n",
    "# Initialize values to graph later or use for later calculations\n",
    "errList = []\n",
    "validationErrList = []\n",
    "epochList = []\n",
    "\n",
    "# Counter to keep track of the number of overall training iterations\n",
    "count = 0\n",
    "# Run the training on 2000 different image sets of size 100 \n",
    "for _ in range(epochs):\n",
    "    inputData, correctAns = mnist.train.next_batch(100)\n",
    "    validationInput, validationCorrect = mnist.train.next_batch(100)\n",
    "    # Run the training on the image set of size 100, 10 times\n",
    "    for _ in range(iterationsPerEpoch):\n",
    "        # Do the training\n",
    "        err, _ = s.run((cost, optimizer), feed_dict={x: inputData, ref: correctAns})\n",
    "\n",
    "        # Calculate the cross validation error\n",
    "        validationErr = s.run((cost), feed_dict={x: validationInput, ref: validationCorrect})\n",
    "        \n",
    "        # Add the values to be tracked into their respective lists    \n",
    "        errList.append(err)\n",
    "        validationErrList.append(validationErr)    \n",
    "        epochList.append(count)\n",
    "        count += 1\n",
    "\n",
    "# Print done to indicate that the training is done\n",
    "print(\"DONE\")"
   ]
  },
  {
   "cell_type": "markdown",
   "metadata": {},
   "source": [
    "### Question D.2\n",
    "[5] Plot the training error over the epochs."
   ]
  },
  {
   "cell_type": "code",
   "execution_count": 8,
   "metadata": {},
   "outputs": [
    {
     "data": {
      "image/png": "[encoded data removed]",
      "text/plain": [
       "<matplotlib.figure.Figure at 0x7f825b3a09e8>"
      ]
     },
     "metadata": {},
     "output_type": "display_data"
    }
   ],
   "source": [
    "plt.plot(epochList, errList);\n",
    "plt.ylabel('Training Error')\n",
    "plt.xlabel('Number of Epochs')\n",
    "plt.title('Training Error vs. Number of Epochs')\n",
    "plt.show()"
   ]
  },
  {
   "cell_type": "markdown",
   "metadata": {},
   "source": [
    "### Question D.3\n",
    "[5] Plot the cross-validation error over the epochs. Is there overfitting?  Explain."
   ]
  },
  {
   "cell_type": "code",
   "execution_count": 9,
   "metadata": {},
   "outputs": [
    {
     "data": {
      "image/png": "[encoded data removed]",
      "text/plain": [
       "<matplotlib.figure.Figure at 0x7f82599cbdd8>"
      ]
     },
     "metadata": {},
     "output_type": "display_data"
    }
   ],
   "source": [
    "plt.plot(epochList, validationErrList);\n",
    "plt.ylabel('Cross Validation Error')\n",
    "plt.xlabel('Number of Epochs')\n",
    "plt.title('Cross Validation Error vs. Number of Epochs')\n",
    "plt.show()"
   ]
  },
  {
   "cell_type": "markdown",
   "metadata": {},
   "source": [
    "There is no evident overfitting error in the above plot, this is because the training data changes every 10 iterations of training. Thus you will not see a very obvious cross validation error (ie. a smooth curve going up) since the amount of training data is huge. However it can be shown in the above graph that the cross validation error goes up and down but there is no consistent increase which would indicate an overfitting error or a significant difference between the training error and cross validation error."
   ]
  },
  {
   "cell_type": "markdown",
   "metadata": {},
   "source": [
    "### Question D.4\n",
    "[5] Report the test error, and compare with (B.4).  Comment on your observation."
   ]
  },
  {
   "cell_type": "code",
   "execution_count": 10,
   "metadata": {},
   "outputs": [
    {
     "name": "stdout",
     "output_type": "stream",
     "text": [
      "The test error for the final iteration of the training is: 2.43%.\n"
     ]
    }
   ],
   "source": [
    "# Check the test error\n",
    "predic = s.run((prediction), feed_dict={x: mnist.test.images})\n",
    "answers = np.equal(labels, predic)\n",
    "corrGuesses = np.sum(answers)\n",
    "testErr = corrGuesses / len(answers)\n",
    "s.close()\n",
    "print(\"The test error for the final iteration of the training is: \" + str((1 - testErr) * 100) + \"%.\")"
   ]
  },
  {
   "cell_type": "markdown",
   "metadata": {
    "collapsed": true
   },
   "source": [
    "The test error has decreased by a fairly large amount compared to B.4 where B.4 was getting around 8-10% error compared to D.4's 2-3% error. This makes sense since the number of neurons is significantly larger and can guess the image's number."
   ]
  },
  {
   "cell_type": "markdown",
   "metadata": {
    "collapsed": true
   },
   "source": [
    "### Please Note:\n",
    "I used the rectified linear activation function rather than purely linear activation for each layer since the test error was not improving much (and was stagnating at around 9-15%). I believe the above answers are more meaningful for what the question is asking and technically they are both linear activation functions. I believe this is due to very large negative weights influencing the other neurons inside of the hidden layer. The rectified linear activation will take any values less than 0 and set them as 0, which will minimize the effect of overfitting. Due to this, increasing the network's number of neurons can actually increase the test error.\n",
    "\n",
    "<br> logits1 = tf.layers.dense(inputs=x, units=firstLayerOutput, activation=tf.nn.relu, name=\"L1\")\n",
    "<br> logits2 = tf.layers.dense(inputs=logits1, units=secondLayerOutput, activation=tf.nn.relu, name=\"L2\")\n",
    "<br> logits3 = tf.layers.dense(inputs=logits2, units=numClassifications, activation=tf.nn.relu, name=\"L3\")\n",
    "<br> to...\n",
    "<br> logits1 = tf.layers.dense(inputs=x, units=firstLayerOutput, activation=None, name=\"L1\")\n",
    "<br> logits2 = tf.layers.dense(inputs=logits1, units=secondLayerOutput, activation=None, name=\"L2\")\n",
    "<br> logits3 = tf.layers.dense(inputs=logits2, units=numClassifications, activation=None, name=\"L3\")\n",
    "<br> If we are to look at the effect of the linear activation function, overfitting can be seen since the average cross validation error is around 0.75 when the test error is around 0.5. This would indicate an overfitting issue and explain why the test error is not decreasing."
   ]
  },
  {
   "cell_type": "code",
   "execution_count": null,
   "metadata": {
    "collapsed": true
   },
   "outputs": [],
   "source": []
  }
 ],
 "metadata": {
  "kernelspec": {
   "display_name": "Python 3",
   "language": "python",
   "name": "python3"
  },
  "language_info": {
   "codemirror_mode": {
    "name": "ipython",
    "version": 3
   },
   "file_extension": ".py",
   "mimetype": "text/x-python",
   "name": "python",
   "nbconvert_exporter": "python",
   "pygments_lexer": "ipython3",
   "version": "3.6.2"
  }
 },
 "nbformat": 4,
 "nbformat_minor": 2
}
