{
 "cells": [
  {
   "cell_type": "markdown",
   "metadata": {},
   "source": [
    "#### Question B\n",
    "Use a linear model with softmax activation to perform the classification.  Use a single layer of 100 neurons for your first attempt.\n",
    "\n",
    "Use the hold-out cross validation.  Hold out the first 100 images from mnist.train.images.  You can get the hold out validation data using mnist.train.next_batch(100)."
   ]
  },
  {
   "cell_type": "markdown",
   "metadata": {},
   "source": [
    "### Question B.1\n",
    "[5] Clearly define the model and the cost function.  To train the network, use batch size of  100 for each epoch."
   ]
  },
  {
   "cell_type": "code",
   "execution_count": 1,
   "metadata": {},
   "outputs": [
    {
     "name": "stdout",
     "output_type": "stream",
     "text": [
      "Extracting MNIST_data/train-images-idx3-ubyte.gz\n",
      "Extracting MNIST_data/train-labels-idx1-ubyte.gz\n",
      "Extracting MNIST_data/t10k-images-idx3-ubyte.gz\n",
      "Extracting MNIST_data/t10k-labels-idx1-ubyte.gz\n"
     ]
    }
   ],
   "source": [
    "import tensorflow as tf\n",
    "import numpy as np\n",
    "from matplotlib import pyplot as plt\n",
    "from matplotlib import gridspec\n",
    "from tensorflow.examples.tutorials.mnist import input_data\n",
    "%matplotlib inline\n",
    "\n",
    "mnist = input_data.read_data_sets(\"MNIST_data/\", one_hot=True)"
   ]
  },
  {
   "cell_type": "code",
   "execution_count": 2,
   "metadata": {},
   "outputs": [
    {
     "name": "stdout",
     "output_type": "stream",
     "text": [
      "DONE\n"
     ]
    }
   ],
   "source": [
    "numPixels = 784\n",
    "numClassifications = 10\n",
    "\n",
    "# N x 784. Input size of x\n",
    "x = tf.placeholder(tf.float32, [None, numPixels])\n",
    "\n",
    "# N x 10. Input size of the correct data\n",
    "ref = tf.placeholder(tf.float32, [None, numClassifications])\n",
    "\n",
    "logits = tf.layers.dense(inputs=x, units=numClassifications, activation=tf.nn.relu, name=\"L1\")\n",
    "\n",
    "# # 784 x 10. Weight assigned for the probability that a pixel falls into a classification\n",
    "# W = tf.Variable(tf.zeros([numPixels, numClassifications]))\n",
    "\n",
    "# # Scalar 10. Classification bias added after the summation\n",
    "# b = tf.Variable(tf.zeros([numClassifications]))\n",
    "\n",
    "# # (N x 784) * (784 x 10) + 10 -> N * 10. Estimate on how likely the image is one of the classification \n",
    "# logits = tf.matmul(x, W) + b\n",
    "\n",
    "# Calculate the cross entropy, doing the softmax function internally\n",
    "cross_entropy = tf.nn.softmax_cross_entropy_with_logits(logits=logits, labels=ref)\n",
    "\n",
    "# Take the average of the cross entropy values\n",
    "cost = tf.reduce_mean(cross_entropy)\n",
    "\n",
    "# (N). Take the highest percentile value in the prediction as the answer\n",
    "prediction = tf.argmax(tf.nn.softmax(logits), axis=1)\n",
    "\n",
    "labels = []\n",
    "for label in mnist.test.labels:\n",
    "    labels.append(np.argmax(label))\n",
    "labels = np.array(labels)\n",
    "\n",
    "rate = 0.1\n",
    "epochs = 1000\n",
    "\n",
    "optimizer = tf.train.GradientDescentOptimizer(rate).minimize(cost)\n",
    "s = tf.Session()\n",
    "s.run(tf.global_variables_initializer())\n",
    "\n",
    "errList = []\n",
    "validationErrList = []\n",
    "epochList = []\n",
    "inputData, correctAns = mnist.train.next_batch(100)\n",
    "validationInput, validationCorrect = mnist.train.next_batch(100)\n",
    "\n",
    "for i in range(epochs):\n",
    "    # Do the training\n",
    "    err, _ = s.run((cost, optimizer), feed_dict={x: inputData, ref: correctAns})\n",
    "    \n",
    "    # Do the validation\n",
    "    validationErr = s.run((cost), feed_dict={x: validationInput, ref: validationCorrect})\n",
    "    validationErrList.append(validationErr)\n",
    "            \n",
    "    errList.append(err)\n",
    "    epochList.append(i)\n",
    "\n",
    "print(\"DONE\")"
   ]
  },
  {
   "cell_type": "markdown",
   "metadata": {},
   "source": [
    "### Question B.2\n",
    "[5] Plot the training error over the epochs."
   ]
  },
  {
   "cell_type": "code",
   "execution_count": 3,
   "metadata": {},
   "outputs": [
    {
     "data": {
      "image/png": "[encoded data removed]",
      "text/plain": [
       "<matplotlib.figure.Figure at 0x7f038eb9a5c0>"
      ]
     },
     "metadata": {},
     "output_type": "display_data"
    }
   ],
   "source": [
    "plt.plot(epochList, errList);\n",
    "plt.show()"
   ]
  },
  {
   "cell_type": "markdown",
   "metadata": {},
   "source": [
    "### Question B.3\n",
    "[5] Plot the cross-validation error over the epochs. Is there overfitting?  Explain."
   ]
  },
  {
   "cell_type": "code",
   "execution_count": 4,
   "metadata": {},
   "outputs": [
    {
     "data": {
      "image/png": "[encoded data removed]",
      "text/plain": [
       "<matplotlib.figure.Figure at 0x7f038bf9b898>"
      ]
     },
     "metadata": {},
     "output_type": "display_data"
    }
   ],
   "source": [
    "plt.plot(epochList, validationErrList);\n",
    "plt.show()"
   ]
  },
  {
   "cell_type": "markdown",
   "metadata": {},
   "source": [
    "There is overfitting which can be seen at around epoch 50 (from the graph). When the error starts increasing in the above plot, it can be seen that there is overfitting happening. Meaning that the training algorithm is too specific to the training data and should stop training on that data."
   ]
  },
  {
   "cell_type": "markdown",
   "metadata": {
    "collapsed": true
   },
   "source": [
    "### Question B.4\n",
    "[5] Evaluate and report the test error of the best trained linear model with 100 neurons.  The test data is to be taken from mnist.test.images."
   ]
  },
  {
   "cell_type": "code",
   "execution_count": 5,
   "metadata": {},
   "outputs": [
    {
     "name": "stdout",
     "output_type": "stream",
     "text": [
      "The test error for the final iteration of the training is: 39.35 percent.\n"
     ]
    }
   ],
   "source": [
    "# Check the test error\n",
    "predic = s.run((prediction), feed_dict={x: mnist.test.images})\n",
    "answers = np.equal(labels, predic)\n",
    "corrGuesses = np.sum(answers)\n",
    "testErr = corrGuesses / len(answers)   \n",
    "print(\"The test error for the final iteration of the training is: \" + str((1 - testErr) * 100) + \" percent.\")"
   ]
  },
  {
   "cell_type": "code",
   "execution_count": null,
   "metadata": {
    "collapsed": true
   },
   "outputs": [],
   "source": []
  }
 ],
 "metadata": {
  "kernelspec": {
   "display_name": "Python 3",
   "language": "python",
   "name": "python3"
  },
  "language_info": {
   "codemirror_mode": {
    "name": "ipython",
    "version": 3
   },
   "file_extension": ".py",
   "mimetype": "text/x-python",
   "name": "python",
   "nbconvert_exporter": "python",
   "pygments_lexer": "ipython3",
   "version": "3.6.2"
  }
 },
 "nbformat": 4,
 "nbformat_minor": 2
}
