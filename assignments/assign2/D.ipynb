{
 "cells": [
  {
   "cell_type": "markdown",
   "metadata": {},
   "source": [
    "## Question D\n",
    "Build a multi-layer perceptron network.  The input is the 784-dimensional vector, 28x28=784.  Use two hidden layers of 256 and 256 neurons each.  The output layer is 10.  The activations functions are all linear."
   ]
  },
  {
   "cell_type": "markdown",
   "metadata": {},
   "source": [
    "### Question D.1\n",
    "[5] Build the model, and tune the learning rate to make sure that the training converges.  Using the same cross-validation as in (B)."
   ]
  },
  {
   "cell_type": "code",
   "execution_count": 1,
   "metadata": {},
   "outputs": [
    {
     "name": "stdout",
     "output_type": "stream",
     "text": [
      "Extracting MNIST_data/train-images-idx3-ubyte.gz\n",
      "Extracting MNIST_data/train-labels-idx1-ubyte.gz\n",
      "Extracting MNIST_data/t10k-images-idx3-ubyte.gz\n",
      "Extracting MNIST_data/t10k-labels-idx1-ubyte.gz\n"
     ]
    }
   ],
   "source": [
    "import tensorflow as tf\n",
    "import numpy as np\n",
    "from matplotlib import pyplot as plt\n",
    "from matplotlib import gridspec\n",
    "from tensorflow.examples.tutorials.mnist import input_data\n",
    "%matplotlib inline\n",
    "\n",
    "mnist = input_data.read_data_sets(\"MNIST_data/\", one_hot=True)"
   ]
  },
  {
   "cell_type": "code",
   "execution_count": 2,
   "metadata": {},
   "outputs": [
    {
     "name": "stdout",
     "output_type": "stream",
     "text": [
      "DONE\n"
     ]
    }
   ],
   "source": [
    "numPixels = 784\n",
    "firstLayerOutput = 256\n",
    "secondLayerOutput = 256\n",
    "numClassifications = 10\n",
    "\n",
    "# Initial input\n",
    "x = tf.placeholder(tf.float32, [None, numPixels])\n",
    "# Reference\n",
    "ref = tf.placeholder(tf.float32, [None, numClassifications])\n",
    "\n",
    "logits1 = tf.layers.dense(inputs=x, units=firstLayerOutput, activation=tf.nn.relu, name=\"L1\")\n",
    "logits2 = tf.layers.dense(inputs=logits1, units=secondLayerOutput, activation=tf.nn.relu, name=\"L2\")\n",
    "logits3 = tf.layers.dense(inputs=logits2, units=numClassifications, activation=tf.nn.relu, name=\"L3\")\n",
    "\n",
    "# # First layer\n",
    "# # -------------\n",
    "\n",
    "# # First weight variable\n",
    "# W1 = tf.Variable(tf.zeros([numPixels, firstLayerOutput]))\n",
    "# # First bias variable\n",
    "# b1 = tf.Variable(tf.zeros([firstLayerOutput]))\n",
    "# # First layer calculation. N x 256 size\n",
    "# logits1 = tf.matmul(x, W1) + b1\")\n",
    "\n",
    "# # Second layer\n",
    "# # -------------\n",
    "\n",
    "# # Second weight variable\n",
    "# W2 = tf.Variable(tf.zeros([firstLayerOutput, secondLayerOutput]))\n",
    "# # Second bias variable\n",
    "# b2 = tf.Variable(tf.zeros([secondLayerOutput]))\n",
    "# # Third layer calculation. N x 256 size\n",
    "# logits2 = tf.matmul(logits1, W2) + b2\n",
    "\n",
    "# # Third layer\n",
    "# # -------------\n",
    "\n",
    "# # Third weight variable\n",
    "# W3 = tf.Variable(tf.zeros([secondLayerOutput, numClassifications]))\n",
    "# # Third bias variable\n",
    "# b3 = tf.Variable(tf.zeros([numClassifications]))\n",
    "# # Third layer calculation. N x 10 size\n",
    "# logits3 = tf.matmul(logits2, W3) + b3\n",
    "\n",
    "# Calculate the cross entropy, doing the softmax function internally\n",
    "cross_entropy = tf.nn.softmax_cross_entropy_with_logits(logits=logits3, labels=ref)\n",
    "\n",
    "# Take the average of the cross entropy values\n",
    "cost = tf.reduce_mean(cross_entropy)\n",
    "\n",
    "# (N). Take the highest percentile value in the prediction as the answer\n",
    "prediction = tf.argmax(tf.nn.softmax(logits3), axis=1)\n",
    "\n",
    "labels = []\n",
    "for label in mnist.test.labels:\n",
    "    labels.append(np.argmax(label))\n",
    "labels = np.array(labels)\n",
    "\n",
    "rate = 0.1\n",
    "epochs = 1000\n",
    "\n",
    "optimizer = tf.train.GradientDescentOptimizer(rate).minimize(cost)\n",
    "s = tf.Session()\n",
    "s.run(tf.global_variables_initializer())\n",
    "\n",
    "errList = []\n",
    "validationErrList = []\n",
    "epochList = []\n",
    "inputData, correctAns = mnist.train.next_batch(100)\n",
    "validationInput, validationCorrect = mnist.train.next_batch(100)\n",
    "\n",
    "for i in range(epochs):\n",
    "    # Do the training\n",
    "    err, _ = s.run((cost, optimizer), feed_dict={x: inputData, ref: correctAns})\n",
    "    \n",
    "    # Do the validation\n",
    "    validationErr = s.run((cost), feed_dict={x: validationInput, ref: validationCorrect})\n",
    "    validationErrList.append(validationErr)\n",
    "            \n",
    "    errList.append(err)\n",
    "    epochList.append(i)\n",
    "\n",
    "print(\"DONE\")"
   ]
  },
  {
   "cell_type": "markdown",
   "metadata": {},
   "source": [
    "### Question D.2\n",
    "[5] Plot the training error over the epochs."
   ]
  },
  {
   "cell_type": "code",
   "execution_count": 3,
   "metadata": {},
   "outputs": [
    {
     "data": {
      "image/png": "[encoded data removed]",
      "text/plain": [
       "<matplotlib.figure.Figure at 0x7ff904cee470>"
      ]
     },
     "metadata": {},
     "output_type": "display_data"
    }
   ],
   "source": [
    "plt.plot(epochList, errList);\n",
    "plt.show()"
   ]
  },
  {
   "cell_type": "markdown",
   "metadata": {},
   "source": [
    "### Question D.3\n",
    "[5] Plot the cross-validation error over the epochs. Is there overfitting?  Explain."
   ]
  },
  {
   "cell_type": "code",
   "execution_count": 4,
   "metadata": {},
   "outputs": [
    {
     "data": {
      "image/png": "[encoded data removed]",
      "text/plain": [
       "<matplotlib.figure.Figure at 0x7ff90227e5c0>"
      ]
     },
     "metadata": {},
     "output_type": "display_data"
    }
   ],
   "source": [
    "plt.plot(epochList, validationErrList);\n",
    "plt.show()"
   ]
  },
  {
   "cell_type": "markdown",
   "metadata": {},
   "source": [
    "There is overfitting which can be seen at around epoch 100 (from the graph). When the error starts increasing in the above plot, it can be seen that there is overfitting happening. Meaning that the training algorithm is too specific to the training data and should stop training on that data. Due to the increased layers and neurons, it would appear that it is trying correct itself to a degree since the curve is not smooth. However since the number of epochs increases, the training gets more and more specific to the training data hence the error increases even though the increased layers/neurons try to correct for that."
   ]
  },
  {
   "cell_type": "markdown",
   "metadata": {},
   "source": [
    "### Question D.4\n",
    "[5] Report the test error, and compare with (B.4).  Comment on your observation."
   ]
  },
  {
   "cell_type": "code",
   "execution_count": 5,
   "metadata": {},
   "outputs": [
    {
     "name": "stdout",
     "output_type": "stream",
     "text": [
      "The test error for the final iteration of the training is: 36.46 percent.\n"
     ]
    }
   ],
   "source": [
    "# Check the test error\n",
    "predic = s.run((prediction), feed_dict={x: mnist.test.images})\n",
    "answers = np.equal(labels, predic)\n",
    "corrGuesses = np.sum(answers)\n",
    "testErr = corrGuesses / len(answers)   \n",
    "print(\"The test error for the final iteration of the training is: \" + str((1 - testErr) * 100) + \" percent.\")"
   ]
  },
  {
   "cell_type": "markdown",
   "metadata": {
    "collapsed": true
   },
   "source": [
    "The test error has decreased by a slight amount from 40-50 percent down to 30-35 percent."
   ]
  },
  {
   "cell_type": "code",
   "execution_count": null,
   "metadata": {
    "collapsed": true
   },
   "outputs": [],
   "source": []
  }
 ],
 "metadata": {
  "kernelspec": {
   "display_name": "Python 3",
   "language": "python",
   "name": "python3"
  },
  "language_info": {
   "codemirror_mode": {
    "name": "ipython",
    "version": 3
   },
   "file_extension": ".py",
   "mimetype": "text/x-python",
   "name": "python",
   "nbconvert_exporter": "python",
   "pygments_lexer": "ipython3",
   "version": "3.6.2"
  }
 },
 "nbformat": 4,
 "nbformat_minor": 2
}
