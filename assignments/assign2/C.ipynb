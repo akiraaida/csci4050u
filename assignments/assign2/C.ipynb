{
 "cells": [
  {
   "cell_type": "markdown",
   "metadata": {},
   "source": [
    "## Question C\n",
    "Increase the number of neurons.  Plot the test error of the best trained linear models with increasing number of neurons.  You can experiment with different network sizes.  Plot the test error with respect to the neurons.\n"
   ]
  },
  {
   "cell_type": "code",
   "execution_count": 2,
   "metadata": {},
   "outputs": [
    {
     "name": "stdout",
     "output_type": "stream",
     "text": [
      "Extracting MNIST_data/train-images-idx3-ubyte.gz\n",
      "Extracting MNIST_data/train-labels-idx1-ubyte.gz\n",
      "Extracting MNIST_data/t10k-images-idx3-ubyte.gz\n",
      "Extracting MNIST_data/t10k-labels-idx1-ubyte.gz\n"
     ]
    }
   ],
   "source": [
    "import tensorflow as tf\n",
    "import numpy as np\n",
    "from matplotlib import pyplot as plt\n",
    "from matplotlib import gridspec\n",
    "from tensorflow.examples.tutorials.mnist import input_data\n",
    "%matplotlib inline\n",
    "\n",
    "mnist = input_data.read_data_sets(\"MNIST_data/\", one_hot=True)"
   ]
  },
  {
   "cell_type": "code",
   "execution_count": 26,
   "metadata": {},
   "outputs": [
    {
     "name": "stdout",
     "output_type": "stream",
     "text": [
      "Finished iteration: 1\n",
      "Finished iteration: 2\n",
      "Finished iteration: 3\n",
      "Finished iteration: 4\n",
      "Finished iteration: 5\n",
      "Finished iteration: 6\n",
      "Finished iteration: 7\n",
      "Finished iteration: 8\n",
      "Finished iteration: 9\n",
      "Finished iteration: 10\n",
      "Finished iteration: 11\n",
      "Finished iteration: 12\n",
      "Finished iteration: 13\n",
      "Finished iteration: 14\n",
      "Finished iteration: 15\n",
      "Finished iteration: 16\n",
      "Finished iteration: 17\n",
      "Finished iteration: 18\n",
      "Finished iteration: 19\n",
      "Finished iteration: 20\n",
      "Finished iteration: 21\n",
      "Finished iteration: 22\n",
      "Finished iteration: 23\n",
      "Finished iteration: 24\n",
      "Finished iteration: 25\n",
      "Finished iteration: 26\n",
      "Finished iteration: 27\n",
      "Finished iteration: 28\n",
      "Finished iteration: 29\n",
      "Finished iteration: 30\n"
     ]
    },
    {
     "data": {
      "image/png": "[encoded data removed]",
      "text/plain": [
       "<matplotlib.figure.Figure at 0x7f187607f588>"
      ]
     },
     "metadata": {},
     "output_type": "display_data"
    }
   ],
   "source": [
    "numPixels = 784\n",
    "firstLayerOutput = 10\n",
    "numClassifications = 10\n",
    "\n",
    "numNeurons = []\n",
    "testErrors = []\n",
    "\n",
    "\n",
    "for i in range(1, 31):\n",
    "    tf.reset_default_graph()\n",
    "    # Initial input\n",
    "    x = tf.placeholder(tf.float32, [None, numPixels])\n",
    "    # Reference\n",
    "    ref = tf.placeholder(tf.float32, [None, numClassifications])\n",
    "\n",
    "    logits1 = tf.layers.dense(inputs=x, units=firstLayerOutput * i, activation=None, name=\"L1\")\n",
    "    logits2 = tf.layers.dense(inputs=logits1, units=numClassifications, activation=None, name=\"L2\")\n",
    "\n",
    "    # Calculate the cross entropy, doing the softmax function internally\n",
    "    cross_entropy = tf.nn.softmax_cross_entropy_with_logits(logits=logits2, labels=ref)\n",
    "\n",
    "    # Take the average of the cross entropy values\n",
    "    cost = tf.reduce_mean(cross_entropy)\n",
    "\n",
    "    # (N). Take the highest percentile value in the prediction as the answer\n",
    "    prediction = tf.argmax(tf.nn.softmax(logits2), axis=1)\n",
    "\n",
    "    labels = []\n",
    "    for label in mnist.test.labels:\n",
    "        labels.append(np.argmax(label))\n",
    "    labels = np.array(labels)\n",
    "\n",
    "    rate = 0.01\n",
    "    epochs = 100\n",
    "    iterationsPerEpoch = 10\n",
    "    \n",
    "    optimizer = tf.train.GradientDescentOptimizer(rate).minimize(cost)\n",
    "    s = tf.Session()\n",
    "    s.run(tf.global_variables_initializer())\n",
    "    for _ in range(epochs):\n",
    "        inputData, correctAns = mnist.train.next_batch(100)\n",
    "        validationInput, validationCorrect = mnist.train.next_batch(100)\n",
    "        for _ in range(iterationsPerEpoch):\n",
    "            # Do the training\n",
    "            err, _ = s.run((cost, optimizer), feed_dict={x: inputData, ref: correctAns})\n",
    "\n",
    "    # Check the test error\n",
    "    predic = s.run((prediction), feed_dict={x: mnist.test.images})\n",
    "    answers = np.equal(labels, predic)\n",
    "    corrGuesses = np.sum(answers)\n",
    "    testErr = corrGuesses / len(answers)   \n",
    "    \n",
    "    numNeurons.append(i * firstLayerOutput)\n",
    "    testErrors.append((1 - testErr) * 100)\n",
    "    \n",
    "    print(\"Finished iteration: \" + str(i))\n",
    "\n",
    "plt.plot(numNeurons, testErrors)\n",
    "plt.show()"
   ]
  },
  {
   "cell_type": "markdown",
   "metadata": {
    "collapsed": true
   },
   "source": [
    "It would appear that generally as the number of neurons increases, the test error decreases to an extent until the amount of training from the neurons causing an overfitting error. Thus after a certain number of neurons, it actually starts to decrease the accuracy of the test error."
   ]
  },
  {
   "cell_type": "code",
   "execution_count": null,
   "metadata": {
    "collapsed": true
   },
   "outputs": [],
   "source": []
  }
 ],
 "metadata": {
  "kernelspec": {
   "display_name": "Python 3",
   "language": "python",
   "name": "python3"
  },
  "language_info": {
   "codemirror_mode": {
    "name": "ipython",
    "version": 3
   },
   "file_extension": ".py",
   "mimetype": "text/x-python",
   "name": "python",
   "nbconvert_exporter": "python",
   "pygments_lexer": "ipython3",
   "version": "3.6.2"
  }
 },
 "nbformat": 4,
 "nbformat_minor": 2
}
