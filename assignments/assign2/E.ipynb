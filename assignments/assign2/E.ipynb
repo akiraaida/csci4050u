{
 "cells": [
  {
   "cell_type": "markdown",
   "metadata": {},
   "source": [
    "## Question E\n",
    "Build a multi-layer perceptron with your own design.  Experiment with the layers, size of each layer, and different activation functions."
   ]
  },
  {
   "cell_type": "markdown",
   "metadata": {},
   "source": [
    "### Question E.1\n",
    "[5] Describe your network clearly with markdown."
   ]
  },
  {
   "cell_type": "markdown",
   "metadata": {},
   "source": [
    "#### Number of Layers: 5, 1 Input layer, 3 Hidden Layers, 1 Classification (Output) Layer\n",
    "The input layer takes a matrix of shape (N, 784) where N is the number of images and 784 is the number of pixels.\n",
    "The hidden layers all take the logits created by the previous layer, outputting 50 neurons each.\n",
    "The output layer takes the logits created by the previous layer (hidden layer 3), and outputs the classification of each image as a vector of size 10 where each value in that vector represents the 'guess' that the image is that classification.\n",
    "#### Activation Function of Each Layer\n",
    "Layer 1 - Softplus, Layer 2 - Rectified Linear, Layer 3 - Softplus, Layer 4 - Rectified Linear, Layer 5 - Softplus"
   ]
  },
  {
   "cell_type": "markdown",
   "metadata": {},
   "source": [
    "### Question E.2\n",
    "[10] Build the model using TensorFlow.  Use the same cross-validation as in (B) and (D)."
   ]
  },
  {
   "cell_type": "code",
   "execution_count": 2,
   "metadata": {},
   "outputs": [
    {
     "name": "stdout",
     "output_type": "stream",
     "text": [
      "Extracting MNIST_data/train-images-idx3-ubyte.gz\n",
      "Extracting MNIST_data/train-labels-idx1-ubyte.gz\n",
      "Extracting MNIST_data/t10k-images-idx3-ubyte.gz\n",
      "Extracting MNIST_data/t10k-labels-idx1-ubyte.gz\n"
     ]
    }
   ],
   "source": [
    "import tensorflow as tf\n",
    "import numpy as np\n",
    "from matplotlib import pyplot as plt\n",
    "from matplotlib import gridspec\n",
    "from tensorflow.examples.tutorials.mnist import input_data\n",
    "%matplotlib inline\n",
    "\n",
    "mnist = input_data.read_data_sets(\"MNIST_data/\", one_hot=True)"
   ]
  },
  {
   "cell_type": "code",
   "execution_count": 3,
   "metadata": {},
   "outputs": [
    {
     "name": "stdout",
     "output_type": "stream",
     "text": [
      "DONE\n"
     ]
    }
   ],
   "source": [
    "# Reset the graph\n",
    "tf.reset_default_graph()\n",
    "\n",
    "# Constants\n",
    "numPixels = 784\n",
    "layerOutput = 50\n",
    "numClassifications = 10\n",
    "rate = 0.2\n",
    "epochs = 2000\n",
    "iterationsPerEpoch = 10\n",
    "\n",
    "# Shape = (N x 784). N images of size 28 pixels by 28 pixels\n",
    "x = tf.placeholder(tf.float32, [None, numPixels])\n",
    "# Shape = (N x 10). N images with one hot values indicating if it's 0-9\n",
    "ref = tf.placeholder(tf.float32, [None, numClassifications])\n",
    "# Shape = (N x 50). The hidden layer outputs 50 neurons which are fed to the next hidden layer\n",
    "logits1 = tf.layers.dense(inputs=x, units=layerOutput, activation=tf.nn.softplus, name=\"L1\")\n",
    "# Shape = (N x 50). The hidden layer outputs 50 neurons which are fed to the next hidden layer\n",
    "logits2 = tf.layers.dense(inputs=logits1, units=layerOutput, activation=tf.nn.relu, name=\"L2\")\n",
    "# Shape = (N x 50). The hidden layer outputs 50 neurons which are fed to the next hidden layer\n",
    "logits3 = tf.layers.dense(inputs=logits2, units=layerOutput, activation=tf.nn.softplus, name=\"L3\")\n",
    "# Shape = (N x 50). The hidden layer outputs 50 neurons which are fed to the next hidden layer\n",
    "logits4 = tf.layers.dense(inputs=logits3, units=layerOutput, activation=tf.nn.relu, name=\"L4\")\n",
    "# Shape = (N x 50). The hidden layer outputs 50 neurons which are fed to the next hidden layer\n",
    "logits5 = tf.layers.dense(inputs=logits4, units=numClassifications, activation=tf.nn.softplus, name=\"L5\")\n",
    "\n",
    "# Convert the logit values into a probability from 0-1 (indicating confidence percentage) for each classification from 0-9\n",
    "probability = tf.nn.softmax(logits5)\n",
    "# Shape = (N). Take the highest percentile value in the prediction as the neural network's guess\n",
    "prediction = tf.argmax((probability), axis=1)\n",
    "\n",
    "# Calculate the cross entropy, doing the softmax function internally\n",
    "cross_entropy = tf.nn.softmax_cross_entropy_with_logits(logits=logits5, labels=ref)\n",
    "# Take the average of the cross entropy values\n",
    "cost = tf.reduce_mean(cross_entropy)\n",
    "\n",
    "# Take the largest 1 hot value for each image's label to get the classification of each image\n",
    "labels = []\n",
    "for label in mnist.test.labels:\n",
    "    labels.append(np.argmax(label))\n",
    "# Shape = (N). Convert the list into a numpy array for later comparisons\n",
    "labels = np.array(labels)\n",
    "\n",
    "# Initialize the optimizer\n",
    "optimizer = tf.train.GradientDescentOptimizer(rate).minimize(cost)\n",
    "s = tf.Session()\n",
    "s.run(tf.global_variables_initializer())\n",
    "\n",
    "# Initialize values to graph later or use for later calculations\n",
    "errList = []\n",
    "validationErrList = []\n",
    "epochList = []\n",
    "\n",
    "# Counter to keep track of the number of overall training iterations\n",
    "count = 0\n",
    "# Run the training on 2000 different image sets of size 100 \n",
    "for _ in range(epochs):\n",
    "    inputData, correctAns = mnist.train.next_batch(100)\n",
    "    validationInput, validationCorrect = mnist.train.next_batch(100)\n",
    "    # Run the training on the image set of size 100, 10 times\n",
    "    for _ in range(iterationsPerEpoch):\n",
    "        # Do the training\n",
    "        err, _ = s.run((cost, optimizer), feed_dict={x: inputData, ref: correctAns})\n",
    "\n",
    "        # Calculate the cross validation error\n",
    "        validationErr = s.run((cost), feed_dict={x: validationInput, ref: validationCorrect})\n",
    "        \n",
    "        # Add the values to be tracked into their respective lists    \n",
    "        errList.append(err)\n",
    "        validationErrList.append(validationErr)    \n",
    "        epochList.append(count)\n",
    "        count += 1\n",
    "\n",
    "# Print done to indicate that the training is done\n",
    "print(\"DONE\")"
   ]
  },
  {
   "cell_type": "markdown",
   "metadata": {},
   "source": [
    "### Question E.3\n",
    "[5] Plot the training error."
   ]
  },
  {
   "cell_type": "code",
   "execution_count": 4,
   "metadata": {},
   "outputs": [
    {
     "data": {
      "image/png": "[encoded data removed]",
      "text/plain": [
       "<matplotlib.figure.Figure at 0x7fa543b9f940>"
      ]
     },
     "metadata": {},
     "output_type": "display_data"
    }
   ],
   "source": [
    "plt.plot(epochList, errList);\n",
    "plt.ylabel('Training Error')\n",
    "plt.xlabel('Number of Epochs')\n",
    "plt.title('Training Error vs. Number of Epochs')\n",
    "plt.show()"
   ]
  },
  {
   "cell_type": "markdown",
   "metadata": {},
   "source": [
    "### Question E.4\n",
    "[5] Plot the cross-validation error over the epochs. Is there overfitting?"
   ]
  },
  {
   "cell_type": "code",
   "execution_count": 5,
   "metadata": {},
   "outputs": [
    {
     "data": {
      "image/png": "[encoded data removed]",
      "text/plain": [
       "<matplotlib.figure.Figure at 0x7fa540f16f60>"
      ]
     },
     "metadata": {},
     "output_type": "display_data"
    }
   ],
   "source": [
    "plt.plot(epochList, validationErrList);\n",
    "plt.ylabel('Cross Validation Error')\n",
    "plt.xlabel('Number of Epochs')\n",
    "plt.title('Cross Validation Error vs. Number of Epochs')\n",
    "plt.show()"
   ]
  },
  {
   "cell_type": "markdown",
   "metadata": {},
   "source": [
    "There is no evident overfitting error in the above plot, this is because the training data changes every 10 iterations of training. Thus you will not see a very obvious cross validation error (ie. a smooth curve going up) since the amount of training data is huge. However it can be shown in the above graph that the cross validation error goes up and down but there is no consistent increase which would indicate an overfitting error."
   ]
  },
  {
   "cell_type": "markdown",
   "metadata": {},
   "source": [
    "### Question E.5\n",
    "[5] Report the test error, and compare with (B.4) and (D.4).  Comment on your observation."
   ]
  },
  {
   "cell_type": "code",
   "execution_count": 6,
   "metadata": {},
   "outputs": [
    {
     "name": "stdout",
     "output_type": "stream",
     "text": [
      "The test error for the final iteration of the training is: 3.31 percent.\n"
     ]
    }
   ],
   "source": [
    "# Check the test error\n",
    "predic = s.run((prediction), feed_dict={x: mnist.test.images})\n",
    "answers = np.equal(labels, predic)\n",
    "corrGuesses = np.sum(answers)\n",
    "testErr = corrGuesses / len(answers)   \n",
    "print(\"The test error for the final iteration of the training is: \" + str((1 - testErr) * 100) + \" percent.\")"
   ]
  },
  {
   "cell_type": "markdown",
   "metadata": {},
   "source": [
    "The test error has decreased by a fairly large amount compared to B.4 where B.4 was getting around 8-10% error compared to E.5's 4-5% error. This makes sense since the number of neurons is significantly larger and can guess the image's number better. However, the this is not better than D.4's test error which was around 3-4%. The different activation functions did not appear to decrease the test error by much even though there are more layers. But this makes sense since the size of each of the layers is much smaller than D's number of neurons."
   ]
  },
  {
   "cell_type": "markdown",
   "metadata": {
    "collapsed": true
   },
   "source": [
    "### Please Note:\n",
    "If comparing E.5 to the linear activation of B.4 and D.4, the increase for improval is incredibly significant. Where 9-15% test error goes down to about 3%. Which is due to the removal of the very large negative numbers which would cause the significant overfitting."
   ]
  }
 ],
 "metadata": {
  "kernelspec": {
   "display_name": "Python 3",
   "language": "python",
   "name": "python3"
  },
  "language_info": {
   "codemirror_mode": {
    "name": "ipython",
    "version": 3
   },
   "file_extension": ".py",
   "mimetype": "text/x-python",
   "name": "python",
   "nbconvert_exporter": "python",
   "pygments_lexer": "ipython3",
   "version": "3.6.2"
  }
 },
 "nbformat": 4,
 "nbformat_minor": 2
}
