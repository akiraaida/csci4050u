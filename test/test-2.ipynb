{
 "cells": [
  {
   "cell_type": "code",
   "execution_count": 21,
   "metadata": {
    "colab": {
     "autoexec": {
      "startup": false,
      "wait_interval": 0
     }
    },
    "colab_type": "code",
    "collapsed": true,
    "id": "Cz1o6bZT2vZk"
   },
   "outputs": [],
   "source": [
    "import tensorflow as tf\n",
    "import numpy as np\n",
    "import sklearn.datasets as ds\n",
    "import matplotlib.pyplot as pl\n",
    "import random"
   ]
  },
  {
   "cell_type": "markdown",
   "metadata": {
    "colab_type": "text",
    "id": "guqPpM2YRHpQ"
   },
   "source": [
    "# The Dataset\n",
    "\n",
    "Consider the problem of three-way classification of 2D vectors.\n",
    "\n",
    "- `x` is a ndarray of size (2000, 2)\n",
    "- `y` is the class labels, such that `y[i]` is the class that `x[i]` belongs to."
   ]
  },
  {
   "cell_type": "code",
   "execution_count": 22,
   "metadata": {
    "colab": {
     "autoexec": {
      "startup": false,
      "wait_interval": 0
     }
    },
    "colab_type": "code",
    "collapsed": true,
    "id": "K91C0b0n3AFw"
   },
   "outputs": [],
   "source": [
    "x_all, y_all = ds.make_blobs(2000, 2, 3, cluster_std=1., random_state=9)\n",
    "x_train, y_train = x_all[:1000, :], y_all[:1000]\n",
    "x_test, y_test = x_all[1000:, :], y_all[1000:]"
   ]
  },
  {
   "cell_type": "markdown",
   "metadata": {
    "colab_type": "text",
    "id": "JAc-zFbnUM55"
   },
   "source": [
    "# Helper Functions\n",
    "\n",
    "`x,y = get_training_batch(n)`\n",
    "\n",
    "> returns n random samples from the training data.\n",
    "\n",
    "`onehot = idx_to_onehot(indexes)`\n",
    "\n",
    "> returns the one-hot vectors"
   ]
  },
  {
   "cell_type": "code",
   "execution_count": 23,
   "metadata": {
    "colab": {
     "autoexec": {
      "startup": false,
      "wait_interval": 0
     }
    },
    "colab_type": "code",
    "collapsed": true,
    "id": "RJDDlOl2Zo7J"
   },
   "outputs": [],
   "source": [
    "def get_training_batch(n):\n",
    "  n = min(n, 1000)\n",
    "  idx = np.random.choice(1000, n)\n",
    "  return x_train[idx], y_train[idx]\n",
    "\n",
    "def idx_to_onehot(indexes):\n",
    "  d = np.max(indexes) + 1\n",
    "  n = len(indexes)\n",
    "  onehot = np.zeros((n, d))\n",
    "  onehot[np.arange(n), indexes] = 1.0\n",
    "  return onehot\n",
    "\n",
    "def plot_data(x, y):\n",
    "  colors = \"rgb\"\n",
    "  I = [y == i for i in range(3)]\n",
    "  for i in range(3):\n",
    "    pl.plot(x[I[i], 0], x[I[i], 1], '.', color=colors[i]);\n",
    "  pl.show()\n",
    "\n",
    "class Model():\n",
    "  pass"
   ]
  },
  {
   "cell_type": "code",
   "execution_count": 24,
   "metadata": {
    "colab": {
     "autoexec": {
      "startup": false,
      "wait_interval": 0
     },
     "base_uri": "https://localhost:8080/",
     "height": 347,
     "output_extras": [
      {
       "item_id": 1
      }
     ]
    },
    "colab_type": "code",
    "executionInfo": {
     "elapsed": 551,
     "status": "ok",
     "timestamp": 1510296199917,
     "user": {
      "displayName": "Ken Pu",
      "photoUrl": "//lh3.googleusercontent.com/-p_hYiNFOMGk/AAAAAAAAAAI/AAAAAAAAGU0/Z-H_4XE_9sU/s50-c-k-no/photo.jpg",
      "userId": "110746162749419123574"
     },
     "user_tz": 300
    },
    "id": "FvQBdSihoJGi",
    "outputId": "88610b64-48db-4277-9b3c-c5667aa2f6f6"
   },
   "outputs": [
    {
     "data": {
      "image/png": "[encoded data removed]",
      "text/plain": [
       "<matplotlib.figure.Figure at 0x7f515ce10278>"
      ]
     },
     "metadata": {},
     "output_type": "display_data"
    }
   ],
   "source": [
    "plot_data(x_train, y_train)"
   ]
  },
  {
   "cell_type": "markdown",
   "metadata": {
    "colab_type": "text",
    "id": "OH6Jse6oTagh"
   },
   "source": [
    "# Question 1.1: MLP Model\n",
    "\n",
    "In this section, you need to construct a model that performs the classification.\n",
    "\n",
    "- The input is 2D vector\n",
    "- The output is the *probability* distribution that the input belongs to\n",
    "\n",
    "The model reference `mlp.ref` is a list of one-hot vectors."
   ]
  },
  {
   "cell_type": "code",
   "execution_count": 25,
   "metadata": {
    "colab": {
     "autoexec": {
      "startup": false,
      "wait_interval": 0
     }
    },
    "colab_type": "code",
    "collapsed": true,
    "id": "5OF4XxxibTVd"
   },
   "outputs": [],
   "source": [
    "#\n",
    "# Complete the model, including\n",
    "#\n",
    "# mlp.logit - the 3D logits\n",
    "# mlp.prob - the probabilities of the classes\n",
    "# mlp.cost - the mean cross-entropy between the probs and the one-hot references\n",
    "#\n",
    "\n",
    "tf.reset_default_graph()\n",
    "layer_output = 3\n",
    "\n",
    "mlp = Model()\n",
    "mlp.x = tf.placeholder(tf.float32, (None, 2))\n",
    "mlp.ref = tf.placeholder(tf.float32, (None, 3))\n",
    "mlp.logit = tf.layers.dense(inputs=mlp.x, units=layer_output, activation=None, name=\"L1\")\n",
    "mlp.prob = tf.nn.softmax(mlp.logit)\n",
    "mlp.cost = tf.reduce_mean(tf.nn.softmax_cross_entropy_with_logits(logits=mlp.logit, labels=mlp.ref))"
   ]
  },
  {
   "cell_type": "markdown",
   "metadata": {
    "colab_type": "text",
    "id": "92rtJnDIgTyJ"
   },
   "source": [
    "# Question 1.2: Training of MLP\n",
    "\n",
    "Write the code to train the model.  Feel free to train the model however you see fit.\n",
    "\n",
    "**The only requirement is that you must use samples from** `x_train, y_train`, but not\n",
    "`x_test, y_test`."
   ]
  },
  {
   "cell_type": "code",
   "execution_count": 26,
   "metadata": {
    "colab": {
     "autoexec": {
      "startup": false,
      "wait_interval": 0
     }
    },
    "colab_type": "code",
    "id": "rWcIuqDqitHM"
   },
   "outputs": [
    {
     "name": "stdout",
     "output_type": "stream",
     "text": [
      "The training error is: 5.46832\n",
      "The training error is: 0.00163566\n",
      "The training error is: 0.00784887\n",
      "The training error is: 0.00314477\n",
      "The training error is: 0.00188421\n",
      "The training error is: 0.00105881\n",
      "The training error is: 0.00293169\n",
      "The training error is: 0.000172694\n",
      "The training error is: 0.00137915\n",
      "The training error is: 0.000353133\n"
     ]
    }
   ],
   "source": [
    "#\n",
    "# Complete the training code\n",
    "#\n",
    "# - Construct an optimizer that minimizes mlp.cost\n",
    "# - Choose an appropriate learning rate, number of epoches\n",
    "#   and design a strategy to train the model\n",
    "#\n",
    "\n",
    "rate = 0.1\n",
    "epochs = 1000\n",
    "iterations_per_epoch = 50\n",
    "batch_size = 100\n",
    "\n",
    "optimizer = tf.train.GradientDescentOptimizer(rate).minimize(mlp.cost)\n",
    "s = tf.Session()\n",
    "s.run(tf.global_variables_initializer())\n",
    "\n",
    "count = 0\n",
    "for _ in range(epochs):\n",
    "    rand_x_train, rand_y_train = get_training_batch(batch_size)\n",
    "    rand_y_train = idx_to_onehot(rand_y_train)\n",
    "    for _ in range(iterations_per_epoch):\n",
    "        err, _ = s.run((mlp.cost, optimizer), feed_dict={mlp.x: rand_x_train, mlp.ref: rand_y_train})\n",
    "        if count % ((epochs * iterations_per_epoch) / 10) == 0:\n",
    "            print(\"The training error is: \" + str(err))\n",
    "        count += 1"
   ]
  },
  {
   "cell_type": "markdown",
   "metadata": {
    "colab_type": "text",
    "id": "UnFch9-joa2p"
   },
   "source": [
    "# Question 1.3: Evaluation of MLP\n",
    "\n",
    "Use the test data as the input to evaluate your trained model in terms of the mean cross-entropy."
   ]
  },
  {
   "cell_type": "code",
   "execution_count": 27,
   "metadata": {
    "colab": {
     "autoexec": {
      "startup": false,
      "wait_interval": 0
     }
    },
    "colab_type": "code",
    "id": "2XnVCC0ZpL3L"
   },
   "outputs": [
    {
     "name": "stdout",
     "output_type": "stream",
     "text": [
      "The training error in terms of cross-entropy is: 0.000843884\n",
      "The error of the training is: 0.0%.\n"
     ]
    }
   ],
   "source": [
    "#\n",
    "# Complete the code.\n",
    "#\n",
    "\n",
    "y_test_one_hot = idx_to_onehot(y_test)\n",
    "err = s.run((mlp.cost), feed_dict={mlp.x: x_test, mlp.ref: y_test_one_hot})\n",
    "print(\"The training error in terms of cross-entropy is: \" + str(err))\n",
    "\n",
    "prediction = tf.argmax((mlp.prob), axis=1)\n",
    "pred = s.run((prediction), feed_dict={mlp.x: x_test, mlp.ref: y_test_one_hot})\n",
    "answers = np.equal(pred, y_test)\n",
    "corrGuesses = np.sum(answers)\n",
    "error = corrGuesses / len(answers)\n",
    "print(\"The error of the training is: \" + str((1 - error) * 100) + \"%.\")"
   ]
  },
  {
   "cell_type": "markdown",
   "metadata": {
    "colab_type": "text",
    "id": "y4kq4Ym5jr2f"
   },
   "source": [
    "# Question 2.1: RBF Model\n",
    "\n",
    "Construct a RBF based neural network that uses *10* radical basis functions, followed by a dense layer to perform the classifcation."
   ]
  },
  {
   "cell_type": "code",
   "execution_count": 28,
   "metadata": {
    "colab": {
     "autoexec": {
      "startup": false,
      "wait_interval": 0
     }
    },
    "colab_type": "code",
    "collapsed": true,
    "id": "ntwMUJfsjj2c"
   },
   "outputs": [],
   "source": [
    "#\n",
    "# Complete the model\n",
    "#\n",
    "tf.reset_default_graph()\n",
    "\n",
    "N = 10\n",
    "\n",
    "class Model():\n",
    "    pass\n",
    "\n",
    "centers = np.zeros([N, 2])\n",
    "for i in range(N):\n",
    "    centers[i][0] = random.randint(-15, 5)\n",
    "    centers[i][1] = random.randint(-10, 5)\n",
    "\n",
    "rbf = Model()\n",
    "rbf.x = tf.placeholder(tf.float32, (None, 2))\n",
    "rbf.ref = tf.placeholder(tf.float32, (None, 3))\n",
    "rbf.c = tf.Variable(centers, dtype=tf.float32)\n",
    "rbf.sigma = tf.Variable(tf.ones(shape=(N,1)))\n",
    "e = tf.reshape(rbf.x, (-1, 1, 2)) - tf.reshape(rbf.c, (1, N, 2))\n",
    "d = tf.norm(e, axis=2)\n",
    "rho = tf.exp((-d * d) / (2 * tf.transpose(rbf.sigma)))\n",
    "logit = tf.layers.dense(inputs=rho, units=3, activation=None, name=\"L1\")\n",
    "rbf.prob = tf.nn.softmax(logit)\n",
    "rbf.cost = tf.reduce_sum(tf.nn.softmax_cross_entropy_with_logits(labels=rbf.ref, logits=logit))"
   ]
  },
  {
   "cell_type": "markdown",
   "metadata": {
    "colab_type": "text",
    "id": "o2Wbit7llfnu"
   },
   "source": [
    "# Question 2.2: Training of RBF\n",
    "\n",
    "Write the code to train the RBF model"
   ]
  },
  {
   "cell_type": "code",
   "execution_count": 29,
   "metadata": {
    "colab": {
     "autoexec": {
      "startup": false,
      "wait_interval": 0
     }
    },
    "colab_type": "code",
    "id": "Y_B5R6rvl0ZZ"
   },
   "outputs": [
    {
     "name": "stdout",
     "output_type": "stream",
     "text": [
      "The training error is: 108.756\n",
      "The training error is: 0.430526\n",
      "The training error is: 0.327415\n",
      "The training error is: 0.130385\n",
      "The training error is: 0.0637394\n",
      "The training error is: 0.0174272\n",
      "The training error is: 0.0384344\n",
      "The training error is: 0.0395625\n",
      "The training error is: 0.0114808\n",
      "The training error is: 0.126817\n"
     ]
    }
   ],
   "source": [
    "#\n",
    "# Complete the training\n",
    "#\n",
    "\n",
    "batch_size = 100\n",
    "epochs = 1000\n",
    "iterations_per_epoch = 50\n",
    "rate = 0.01\n",
    "\n",
    "optimizer = tf.train.GradientDescentOptimizer(rate).minimize(rbf.cost)\n",
    "\n",
    "s = tf.Session()\n",
    "s.run(tf.global_variables_initializer())\n",
    "s.run((optimizer, rbf.cost), feed_dict={rbf.x: rand_x_train, rbf.ref: rand_y_train})\n",
    "\n",
    "count = 0\n",
    "for _ in range(epochs):\n",
    "    rand_x_train, rand_y_train = get_training_batch(batch_size)\n",
    "    rand_y_train = idx_to_onehot(rand_y_train)\n",
    "    for _ in range(iterations_per_epoch):\n",
    "        err, _ = s.run((rbf.cost, optimizer), feed_dict={rbf.x: rand_x_train, rbf.ref: rand_y_train})\n",
    "        if count % ((epochs * iterations_per_epoch) / 10) == 0:\n",
    "            print(\"The training error is: \" + str(err))\n",
    "        count += 1"
   ]
  },
  {
   "cell_type": "markdown",
   "metadata": {
    "colab_type": "text",
    "id": "6cNb0zYIpsMW"
   },
   "source": [
    "# Question 2.3: Evaluation of RBF\n",
    "\n",
    "Evaluate the trained RBF and compare it with the MLP model in Question 1.3."
   ]
  },
  {
   "cell_type": "code",
   "execution_count": 32,
   "metadata": {
    "colab": {
     "autoexec": {
      "startup": false,
      "wait_interval": 0
     }
    },
    "colab_type": "code",
    "id": "tbEDX9xpnl0S"
   },
   "outputs": [
    {
     "name": "stdout",
     "output_type": "stream",
     "text": [
      "The training error in terms of cross-entropy is: 0.594641\n",
      "The error of the training is: 0.0%.\n"
     ]
    }
   ],
   "source": [
    "#\n",
    "# Complete the code to evaluate the RBF using the test data\n",
    "#\n",
    "y_test_one_hot = idx_to_onehot(y_test)\n",
    "err = s.run((rbf.cost), feed_dict={rbf.x: x_test, rbf.ref: y_test_one_hot})\n",
    "print(\"The training error in terms of cross-entropy is: \" + str(err))\n",
    "\n",
    "prediction = tf.argmax((rbf.prob), axis=1)\n",
    "pred = s.run((prediction), feed_dict={rbf.x: x_test, rbf.ref: y_test_one_hot})\n",
    "answers = np.equal(pred, y_test)\n",
    "corrGuesses = np.sum(answers)\n",
    "error = corrGuesses / len(answers)\n",
    "print(\"The error of the training is: \" + str((1 - error) * 100) + \"%.\")"
   ]
  },
  {
   "cell_type": "markdown",
   "metadata": {
    "colab_type": "text",
    "id": "PSDqXxcIp_jH"
   },
   "source": [
    "### Write down your comparison of MLP and RBF classifiers\n",
    "\n",
    "My comparison of the MLP vs RBF is that they both work very well to classify the three clusters. The MLP however has a lower training error than that of the RBF however even though the epochs, iterations per epoch, training rate, etc. are all of the same. The MLP also would appear to do the classification faster than that of the RBF so it would look to be better suited for this problem for classification means. This is a very simplfied problem so they both get 100% accuracy after only a few iterations of training."
   ]
  },
  {
   "cell_type": "markdown",
   "metadata": {
    "colab_type": "text",
    "id": "9mH82D8XmMCS"
   },
   "source": [
    "# Question 2.4: Understanding the RBF\n",
    "\n",
    "We use 10 RBF, and each has a center and a variance.  Since a RBF center is a 2D vector, and the variance is a scalar, you are to *visualize* the centers using a scatter plot.\n",
    "\n",
    "- Plot each RBF as a circle with some fixed radius, or incorporate variance into the radius \n",
    "- Overlay the RBF over the data."
   ]
  },
  {
   "cell_type": "code",
   "execution_count": 31,
   "metadata": {
    "colab": {
     "autoexec": {
      "startup": false,
      "wait_interval": 0
     }
    },
    "colab_type": "code",
    "id": "WOl6W815qeVp"
   },
   "outputs": [
    {
     "data": {
      "image/png": "[encoded data removed]",
      "text/plain": [
       "<matplotlib.figure.Figure at 0x7f515e7616d8>"
      ]
     },
     "metadata": {},
     "output_type": "display_data"
    }
   ],
   "source": [
    "#\n",
    "# Write the code to visualize the centers of the RBF\n",
    "#\n",
    "centers = s.run((rbf.c))\n",
    "variance = s.run((rbf.sigma))\n",
    "\n",
    "fig, ax = pl.subplots(1, 1)\n",
    "\n",
    "count = 0\n",
    "for y_val in y_train:\n",
    "    if y_val == 0:\n",
    "        ax.scatter(x_train[count,0], x_train[count,1], s=0.5, color=\"red\")\n",
    "    elif y_val == 1:\n",
    "        ax.scatter(x_train[count,0], x_train[count,1], s=0.5, color=\"green\")\n",
    "    else:\n",
    "        ax.scatter(x_train[count,0], x_train[count,1], s=0.5, color=\"blue\")\n",
    "    count += 1\n",
    "\n",
    "ax.set_facecolor('black')\n",
    "for i in range(len(centers)):\n",
    "    circle = pl.Circle((centers[:,0][i], centers[:,1][i]), variance[i], color=\"yellow\", fill=False)\n",
    "    ax.add_artist(circle)\n",
    "    \n",
    "ax.set_xlim([-20, 20])\n",
    "ax.set_ylim([-20, 10])\n",
    "pl.show()"
   ]
  },
  {
   "cell_type": "markdown",
   "metadata": {
    "colab_type": "text",
    "id": "SP687g-TfGDY"
   },
   "source": [
    "# Bonus 1: Decision boundaries for MLP classifier"
   ]
  },
  {
   "cell_type": "markdown",
   "metadata": {
    "colab_type": "text",
    "id": "00NEXCPjfN3l"
   },
   "source": [
    "# Bonus 2: Decision boundaries for RBF classifier"
   ]
  },
  {
   "cell_type": "code",
   "execution_count": null,
   "metadata": {
    "collapsed": true
   },
   "outputs": [],
   "source": []
  }
 ],
 "metadata": {
  "colab": {
   "default_view": {},
   "name": "test-2.ipynb",
   "provenance": [],
   "toc_visible": true,
   "version": "0.3.2",
   "views": {}
  },
  "kernelspec": {
   "display_name": "Python 3",
   "language": "python",
   "name": "python3"
  },
  "language_info": {
   "codemirror_mode": {
    "name": "ipython",
    "version": 3
   },
   "file_extension": ".py",
   "mimetype": "text/x-python",
   "name": "python",
   "nbconvert_exporter": "python",
   "pygments_lexer": "ipython3",
   "version": "3.6.2"
  }
 },
 "nbformat": 4,
 "nbformat_minor": 1
}
