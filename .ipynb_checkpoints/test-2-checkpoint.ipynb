{
 "cells": [
  {
   "cell_type": "code",
   "execution_count": 139,
   "metadata": {
    "colab": {
     "autoexec": {
      "startup": false,
      "wait_interval": 0
     }
    },
    "colab_type": "code",
    "collapsed": true,
    "id": "Cz1o6bZT2vZk"
   },
   "outputs": [],
   "source": [
    "import tensorflow as tf\n",
    "import numpy as np\n",
    "import sklearn.datasets as ds\n",
    "import matplotlib.pyplot as pl\n",
    "import random"
   ]
  },
  {
   "cell_type": "markdown",
   "metadata": {
    "colab_type": "text",
    "id": "guqPpM2YRHpQ"
   },
   "source": [
    "# The Dataset\n",
    "\n",
    "Consider the problem of three-way classification of 2D vectors.\n",
    "\n",
    "- `x` is a ndarray of size (2000, 2)\n",
    "- `y` is the class labels, such that `y[i]` is the class that `x[i]` belongs to."
   ]
  },
  {
   "cell_type": "code",
   "execution_count": 140,
   "metadata": {
    "colab": {
     "autoexec": {
      "startup": false,
      "wait_interval": 0
     }
    },
    "colab_type": "code",
    "id": "K91C0b0n3AFw"
   },
   "outputs": [],
   "source": [
    "x_all, y_all = ds.make_blobs(2000, 2, 3, cluster_std=1., random_state=9)\n",
    "x_train, y_train = x_all[:1000, :], y_all[:1000]\n",
    "x_test, y_test = x_all[1000:, :], y_all[1000:]"
   ]
  },
  {
   "cell_type": "markdown",
   "metadata": {
    "colab_type": "text",
    "id": "JAc-zFbnUM55"
   },
   "source": [
    "# Helper Functions\n",
    "\n",
    "`x,y = get_training_batch(n)`\n",
    "\n",
    "> returns n random samples from the training data.\n",
    "\n",
    "`onehot = idx_to_onehot(indexes)`\n",
    "\n",
    "> returns the one-hot vectors"
   ]
  },
  {
   "cell_type": "code",
   "execution_count": 141,
   "metadata": {
    "colab": {
     "autoexec": {
      "startup": false,
      "wait_interval": 0
     }
    },
    "colab_type": "code",
    "collapsed": true,
    "id": "RJDDlOl2Zo7J"
   },
   "outputs": [],
   "source": [
    "def get_training_batch(n):\n",
    "  n = min(n, 1000)\n",
    "  idx = np.random.choice(1000, n)\n",
    "  return x_train[idx], y_train[idx]\n",
    "\n",
    "def idx_to_onehot(indexes):\n",
    "  d = np.max(indexes) + 1\n",
    "  n = len(indexes)\n",
    "  onehot = np.zeros((n, d))\n",
    "  onehot[np.arange(n), indexes] = 1.0\n",
    "  return onehot\n",
    "\n",
    "def plot_data(x, y):\n",
    "  colors = \"rgb\"\n",
    "  I = [y == i for i in range(3)]\n",
    "  for i in range(3):\n",
    "    pl.plot(x[I[i], 0], x[I[i], 1], '.', color=colors[i]);\n",
    "  pl.show()\n",
    "\n",
    "class Model():\n",
    "  pass"
   ]
  },
  {
   "cell_type": "code",
   "execution_count": 143,
   "metadata": {
    "colab": {
     "autoexec": {
      "startup": false,
      "wait_interval": 0
     },
     "base_uri": "https://localhost:8080/",
     "height": 347,
     "output_extras": [
      {
       "item_id": 1
      }
     ]
    },
    "colab_type": "code",
    "executionInfo": {
     "elapsed": 551,
     "status": "ok",
     "timestamp": 1510296199917,
     "user": {
      "displayName": "Ken Pu",
      "photoUrl": "//lh3.googleusercontent.com/-p_hYiNFOMGk/AAAAAAAAAAI/AAAAAAAAGU0/Z-H_4XE_9sU/s50-c-k-no/photo.jpg",
      "userId": "110746162749419123574"
     },
     "user_tz": 300
    },
    "id": "FvQBdSihoJGi",
    "outputId": "88610b64-48db-4277-9b3c-c5667aa2f6f6"
   },
   "outputs": [
    {
     "data": {
      "image/png": "[encoded data removed]",
      "text/plain": [
       "<matplotlib.figure.Figure at 0x7fe71dc39b38>"
      ]
     },
     "metadata": {},
     "output_type": "display_data"
    }
   ],
   "source": [
    "plot_data(x_train, y_train)"
   ]
  },
  {
   "cell_type": "markdown",
   "metadata": {
    "colab_type": "text",
    "id": "OH6Jse6oTagh"
   },
   "source": [
    "# Question 1.1: MLP Model\n",
    "\n",
    "In this section, you need to construct a model that performs the classification.\n",
    "\n",
    "- The input is 2D vector\n",
    "- The output is the *probability* distribution that the input belongs to\n",
    "\n",
    "The model reference `mlp.ref` is a list of one-hot vectors."
   ]
  },
  {
   "cell_type": "code",
   "execution_count": 145,
   "metadata": {
    "colab": {
     "autoexec": {
      "startup": false,
      "wait_interval": 0
     }
    },
    "colab_type": "code",
    "id": "5OF4XxxibTVd"
   },
   "outputs": [],
   "source": [
    "#\n",
    "# Complete the model, including\n",
    "#\n",
    "# mlp.logit - the 3D logits\n",
    "# mlp.prob - the probabilities of the classes\n",
    "# mlp.cost - the mean cross-entropy between the probs and the one-hot references\n",
    "#\n",
    "\n",
    "tf.reset_default_graph()\n",
    "layer_output = 3\n",
    "\n",
    "mlp = Model()\n",
    "mlp.x = tf.placeholder(tf.float32, (None, 2))\n",
    "mlp.ref = tf.placeholder(tf.float32, (None, 3))\n",
    "# W = tf.Variable(tf.zeros([2, layer_output]))\n",
    "# b = tf.Variable(tf.zeros([layer_output]))\n",
    "# logit = tf.matmul(mlp.x, W) + b\n",
    "mlp.logit = tf.layers.dense(inputs=mlp.x, units=layer_output, activation=None, name=\"L1\")\n",
    "mlp.prob = tf.nn.softmax(mlp.logit)\n",
    "mlp.cost = tf.reduce_mean(tf.nn.softmax_cross_entropy_with_logits(logits=mlp.logit, labels=mlp.ref))"
   ]
  },
  {
   "cell_type": "markdown",
   "metadata": {
    "colab_type": "text",
    "id": "92rtJnDIgTyJ"
   },
   "source": [
    "# Question 1.2: Training of MLP\n",
    "\n",
    "Write the code to train the model.  Feel free to train the model however you see fit.\n",
    "\n",
    "**The only requirement is that you must use samples from** `x_train, y_train`, but not\n",
    "`x_test, y_test`."
   ]
  },
  {
   "cell_type": "code",
   "execution_count": 147,
   "metadata": {
    "colab": {
     "autoexec": {
      "startup": false,
      "wait_interval": 0
     }
    },
    "colab_type": "code",
    "id": "rWcIuqDqitHM"
   },
   "outputs": [
    {
     "name": "stdout",
     "output_type": "stream",
     "text": [
      "The training error is: 6.88454\n",
      "The training error is: 0.0489019\n",
      "The training error is: 0.0264283\n",
      "The training error is: 0.0164181\n",
      "The training error is: 0.00940298\n",
      "The training error is: 0.0135901\n",
      "The training error is: 0.0110545\n",
      "The training error is: 0.00871444\n",
      "The training error is: 0.00454476\n",
      "The training error is: 0.00531975\n"
     ]
    }
   ],
   "source": [
    "#\n",
    "# Complete the training code\n",
    "#\n",
    "# - Construct an optimizer that minimizes mlp.cost\n",
    "# - Choose an appropriate learning rate, number of epoches\n",
    "#   and design a strategy to train the model\n",
    "#\n",
    "\n",
    "rate = 0.1\n",
    "epochs = 100\n",
    "iterations_per_epoch = 10\n",
    "batch_size = 100\n",
    "\n",
    "optimizer = tf.train.GradientDescentOptimizer(rate).minimize(mlp.cost)\n",
    "S = tf.Session()\n",
    "S.run(tf.global_variables_initializer())\n",
    "\n",
    "count = 0\n",
    "for _ in range(epochs):\n",
    "    rand_x_train, rand_y_train = get_training_batch(batch_size)\n",
    "    rand_y_train = idx_to_onehot(rand_y_train)\n",
    "    for _ in range(iterations_per_epoch):\n",
    "        err, _ = S.run((mlp.cost, optimizer), feed_dict={mlp.x: rand_x_train, mlp.ref: rand_y_train})\n",
    "        if count % ((epochs * iterations_per_epoch) / 10) == 0:\n",
    "            print(\"The training error is: \" + str(err))\n",
    "        count += 1"
   ]
  },
  {
   "cell_type": "markdown",
   "metadata": {
    "colab_type": "text",
    "id": "UnFch9-joa2p"
   },
   "source": [
    "# Question 1.3: Evaluation of MLP\n",
    "\n",
    "Use the test data as the input to evaluate your trained model in terms of the mean cross-entropy."
   ]
  },
  {
   "cell_type": "code",
   "execution_count": 149,
   "metadata": {
    "colab": {
     "autoexec": {
      "startup": false,
      "wait_interval": 0
     }
    },
    "colab_type": "code",
    "id": "2XnVCC0ZpL3L"
   },
   "outputs": [
    {
     "name": "stdout",
     "output_type": "stream",
     "text": [
      "The training error in terms of cross-entropy is: 0.00657179\n",
      "The error of the training is: 0.0%.\n"
     ]
    }
   ],
   "source": [
    "#\n",
    "# Complete the code.\n",
    "#\n",
    "\n",
    "y_test_one_hot = idx_to_onehot(y_test)\n",
    "err = S.run((mlp.cost), feed_dict={mlp.x: x_test, mlp.ref: y_test_one_hot})\n",
    "print(\"The training error in terms of cross-entropy is: \" + str(err))\n",
    "\n",
    "prediction = tf.argmax((mlp.prob), axis=1)\n",
    "pred = S.run((prediction), feed_dict={mlp.x: x_test, mlp.ref: y_test_one_hot})\n",
    "answers = np.equal(pred, y_test)\n",
    "corrGuesses = np.sum(answers)\n",
    "error = corrGuesses / len(answers)\n",
    "print(\"The error of the training is: \" + str((1 - error) * 100) + \"%.\")\n",
    "\n",
    "# finalW, finalb = S.run((W, b))\n",
    "# print(finalW)\n",
    "# print(finalb)\n",
    "# plot_data(x_test, y_test)\n",
    "# print(finalW[0][0])\n",
    "# print(finalb[0])\n",
    "\n",
    "# x_ax = np.linspace(-13, 3, 1000)\n",
    "# pos1 = finalW[0][0] * x_ax + finalb[0]\n",
    "# pos2 = finalW[0][1] * x_ax + finalb[1]\n",
    "# pos3 = finalW[0][2] * x_ax + finalb[2]\n",
    "# pos4 = finalW[1][0] * x_ax + finalb[0]\n",
    "# pos5 = finalW[1][1] * x_ax + finalb[1]\n",
    "# pos6 = finalW[1][2] * x_ax + finalb[2]\n",
    "# pl.plot(pos1, x_ax)\n",
    "# pl.plot(pos2, x_ax)\n",
    "# pl.plot(pos3, x_ax)\n",
    "# pl.plot(pos4, x_ax)\n",
    "# pl.plot(pos5, x_ax)\n",
    "# pl.plot(pos6, x_ax)"
   ]
  },
  {
   "cell_type": "markdown",
   "metadata": {
    "colab_type": "text",
    "id": "y4kq4Ym5jr2f"
   },
   "source": [
    "# Question 2.1: RBF Model\n",
    "\n",
    "Construct a RBF based neural network that uses *10* radical basis functions, followed by a dense layer to perform the classifcation."
   ]
  },
  {
   "cell_type": "code",
   "execution_count": 160,
   "metadata": {
    "colab": {
     "autoexec": {
      "startup": false,
      "wait_interval": 0
     }
    },
    "colab_type": "code",
    "id": "ntwMUJfsjj2c"
   },
   "outputs": [],
   "source": [
    "#\n",
    "# Complete the model\n",
    "#\n",
    "\n",
    "N = 10\n",
    "\n",
    "rbf = Model()\n",
    "# Input vector with x, y coords\n",
    "rbf.x = tf.placeholder(tf.float32, (None, 2))\n",
    "# Reference vector with one hot values determining the identity of the cluster \n",
    "rbf.ref = tf.placeholder(tf.float32, (None, 3))\n",
    "# Center \n",
    "rbf.c = tf.Variable(tf.random_normal(shape=(N, 2)), dtype=tf.float32)\n",
    "rbf.v = tf.Variable(tf.ones(shape=(N,3)))\n",
    "rbf.W = tf.Variable(tf.random_normal(shape=(N, 3)))\n",
    "rbf.b = tf.Variable(0, dtype=tf.float32)\n",
    "\n",
    "e = tf.reshape(rbf.x, (-1, 1, 2)) - tf.reshape(rbf.c, (1, N, 2))\n",
    "d = tf.norm(e, axis=2)\n",
    "rho = tf.exp(-d * d / 2 / tf.transpose(rbf.v))\n",
    "rbf.y = tf.matmul(rho, rbf.W) + rbf.b\n",
    "rbf.cost = tf.reduce_sum(tf.nn.sigmoid_cross_entropy_with_logits(labels=rbf.ref, logits=rbf.y))"
   ]
  },
  {
   "cell_type": "markdown",
   "metadata": {
    "colab_type": "text",
    "id": "o2Wbit7llfnu"
   },
   "source": [
    "# Question 2.2: Training of RBF\n",
    "\n",
    "Write the code to train the RBF model"
   ]
  },
  {
   "cell_type": "code",
   "execution_count": 165,
   "metadata": {
    "colab": {
     "autoexec": {
      "startup": false,
      "wait_interval": 0
     }
    },
    "colab_type": "code",
    "id": "Y_B5R6rvl0ZZ"
   },
   "outputs": [
    {
     "ename": "InvalidArgumentError",
     "evalue": "Incompatible shapes: [100,10] vs. [3,10]\n\t [[Node: truediv_9 = RealDiv[T=DT_FLOAT, _device=\"/job:localhost/replica:0/task:0/cpu:0\"](truediv_8, transpose_4)]]\n\nCaused by op 'truediv_9', defined at:\n  File \"/usr/lib/python3.6/runpy.py\", line 193, in _run_module_as_main\n    \"__main__\", mod_spec)\n  File \"/usr/lib/python3.6/runpy.py\", line 85, in _run_code\n    exec(code, run_globals)\n  File \"/usr/lib/python3.6/site-packages/ipykernel/__main__.py\", line 3, in <module>\n    app.launch_new_instance()\n  File \"/usr/lib/python3.6/site-packages/traitlets/config/application.py\", line 658, in launch_instance\n    app.start()\n  File \"/usr/lib/python3.6/site-packages/ipykernel/kernelapp.py\", line 474, in start\n    ioloop.IOLoop.instance().start()\n  File \"/usr/lib/python3.6/site-packages/zmq/eventloop/ioloop.py\", line 177, in start\n    super(ZMQIOLoop, self).start()\n  File \"/usr/lib/python3.6/site-packages/tornado/ioloop.py\", line 888, in start\n    handler_func(fd_obj, events)\n  File \"/usr/lib/python3.6/site-packages/tornado/stack_context.py\", line 277, in null_wrapper\n    return fn(*args, **kwargs)\n  File \"/usr/lib/python3.6/site-packages/zmq/eventloop/zmqstream.py\", line 440, in _handle_events\n    self._handle_recv()\n  File \"/usr/lib/python3.6/site-packages/zmq/eventloop/zmqstream.py\", line 472, in _handle_recv\n    self._run_callback(callback, msg)\n  File \"/usr/lib/python3.6/site-packages/zmq/eventloop/zmqstream.py\", line 414, in _run_callback\n    callback(*args, **kwargs)\n  File \"/usr/lib/python3.6/site-packages/tornado/stack_context.py\", line 277, in null_wrapper\n    return fn(*args, **kwargs)\n  File \"/usr/lib/python3.6/site-packages/ipykernel/kernelbase.py\", line 276, in dispatcher\n    return self.dispatch_shell(stream, msg)\n  File \"/usr/lib/python3.6/site-packages/ipykernel/kernelbase.py\", line 228, in dispatch_shell\n    handler(stream, idents, msg)\n  File \"/usr/lib/python3.6/site-packages/ipykernel/kernelbase.py\", line 390, in execute_request\n    user_expressions, allow_stdin)\n  File \"/usr/lib/python3.6/site-packages/ipykernel/ipkernel.py\", line 196, in do_execute\n    res = shell.run_cell(code, store_history=store_history, silent=silent)\n  File \"/usr/lib/python3.6/site-packages/ipykernel/zmqshell.py\", line 501, in run_cell\n    return super(ZMQInteractiveShell, self).run_cell(*args, **kwargs)\n  File \"/usr/lib/python3.6/site-packages/IPython/core/interactiveshell.py\", line 2717, in run_cell\n    interactivity=interactivity, compiler=compiler, result=result)\n  File \"/usr/lib/python3.6/site-packages/IPython/core/interactiveshell.py\", line 2821, in run_ast_nodes\n    if self.run_code(code, result):\n  File \"/usr/lib/python3.6/site-packages/IPython/core/interactiveshell.py\", line 2881, in run_code\n    exec(code_obj, self.user_global_ns, self.user_ns)\n  File \"<ipython-input-160-83fb2ffa9cf5>\", line 17, in <module>\n    rho = tf.exp(-d * d / 2 / tf.transpose(rbf.v))\n  File \"/usr/lib/python3.6/site-packages/tensorflow/python/ops/math_ops.py\", line 865, in binary_op_wrapper\n    return func(x, y, name=name)\n  File \"/usr/lib/python3.6/site-packages/tensorflow/python/ops/math_ops.py\", line 960, in _truediv_python3\n    return gen_math_ops._real_div(x, y, name=name)\n  File \"/usr/lib/python3.6/site-packages/tensorflow/python/ops/gen_math_ops.py\", line 1831, in _real_div\n    result = _op_def_lib.apply_op(\"RealDiv\", x=x, y=y, name=name)\n  File \"/usr/lib/python3.6/site-packages/tensorflow/python/framework/op_def_library.py\", line 767, in apply_op\n    op_def=op_def)\n  File \"/usr/lib/python3.6/site-packages/tensorflow/python/framework/ops.py\", line 2630, in create_op\n    original_op=self._default_original_op, op_def=op_def)\n  File \"/usr/lib/python3.6/site-packages/tensorflow/python/framework/ops.py\", line 1204, in __init__\n    self._traceback = self._graph._extract_stack()  # pylint: disable=protected-access\n\nInvalidArgumentError (see above for traceback): Incompatible shapes: [100,10] vs. [3,10]\n\t [[Node: truediv_9 = RealDiv[T=DT_FLOAT, _device=\"/job:localhost/replica:0/task:0/cpu:0\"](truediv_8, transpose_4)]]\n",
     "output_type": "error",
     "traceback": [
      "\u001b[0;31m---------------------------------------------------------------------------\u001b[0m",
      "\u001b[0;31mInvalidArgumentError\u001b[0m                      Traceback (most recent call last)",
      "\u001b[0;32m/usr/lib/python3.6/site-packages/tensorflow/python/client/session.py\u001b[0m in \u001b[0;36m_do_call\u001b[0;34m(self, fn, *args)\u001b[0m\n\u001b[1;32m   1326\u001b[0m     \u001b[0;32mtry\u001b[0m\u001b[0;34m:\u001b[0m\u001b[0;34m\u001b[0m\u001b[0m\n\u001b[0;32m-> 1327\u001b[0;31m       \u001b[0;32mreturn\u001b[0m \u001b[0mfn\u001b[0m\u001b[0;34m(\u001b[0m\u001b[0;34m*\u001b[0m\u001b[0margs\u001b[0m\u001b[0;34m)\u001b[0m\u001b[0;34m\u001b[0m\u001b[0m\n\u001b[0m\u001b[1;32m   1328\u001b[0m     \u001b[0;32mexcept\u001b[0m \u001b[0merrors\u001b[0m\u001b[0;34m.\u001b[0m\u001b[0mOpError\u001b[0m \u001b[0;32mas\u001b[0m \u001b[0me\u001b[0m\u001b[0;34m:\u001b[0m\u001b[0;34m\u001b[0m\u001b[0m\n",
      "\u001b[0;32m/usr/lib/python3.6/site-packages/tensorflow/python/client/session.py\u001b[0m in \u001b[0;36m_run_fn\u001b[0;34m(session, feed_dict, fetch_list, target_list, options, run_metadata)\u001b[0m\n\u001b[1;32m   1305\u001b[0m                                    \u001b[0mfeed_dict\u001b[0m\u001b[0;34m,\u001b[0m \u001b[0mfetch_list\u001b[0m\u001b[0;34m,\u001b[0m \u001b[0mtarget_list\u001b[0m\u001b[0;34m,\u001b[0m\u001b[0;34m\u001b[0m\u001b[0m\n\u001b[0;32m-> 1306\u001b[0;31m                                    status, run_metadata)\n\u001b[0m\u001b[1;32m   1307\u001b[0m \u001b[0;34m\u001b[0m\u001b[0m\n",
      "\u001b[0;32m/usr/lib/python3.6/contextlib.py\u001b[0m in \u001b[0;36m__exit__\u001b[0;34m(self, type, value, traceback)\u001b[0m\n\u001b[1;32m     87\u001b[0m             \u001b[0;32mtry\u001b[0m\u001b[0;34m:\u001b[0m\u001b[0;34m\u001b[0m\u001b[0m\n\u001b[0;32m---> 88\u001b[0;31m                 \u001b[0mnext\u001b[0m\u001b[0;34m(\u001b[0m\u001b[0mself\u001b[0m\u001b[0;34m.\u001b[0m\u001b[0mgen\u001b[0m\u001b[0;34m)\u001b[0m\u001b[0;34m\u001b[0m\u001b[0m\n\u001b[0m\u001b[1;32m     89\u001b[0m             \u001b[0;32mexcept\u001b[0m \u001b[0mStopIteration\u001b[0m\u001b[0;34m:\u001b[0m\u001b[0;34m\u001b[0m\u001b[0m\n",
      "\u001b[0;32m/usr/lib/python3.6/site-packages/tensorflow/python/framework/errors_impl.py\u001b[0m in \u001b[0;36mraise_exception_on_not_ok_status\u001b[0;34m()\u001b[0m\n\u001b[1;32m    465\u001b[0m           \u001b[0mcompat\u001b[0m\u001b[0;34m.\u001b[0m\u001b[0mas_text\u001b[0m\u001b[0;34m(\u001b[0m\u001b[0mpywrap_tensorflow\u001b[0m\u001b[0;34m.\u001b[0m\u001b[0mTF_Message\u001b[0m\u001b[0;34m(\u001b[0m\u001b[0mstatus\u001b[0m\u001b[0;34m)\u001b[0m\u001b[0;34m)\u001b[0m\u001b[0;34m,\u001b[0m\u001b[0;34m\u001b[0m\u001b[0m\n\u001b[0;32m--> 466\u001b[0;31m           pywrap_tensorflow.TF_GetCode(status))\n\u001b[0m\u001b[1;32m    467\u001b[0m   \u001b[0;32mfinally\u001b[0m\u001b[0;34m:\u001b[0m\u001b[0;34m\u001b[0m\u001b[0m\n",
      "\u001b[0;31mInvalidArgumentError\u001b[0m: Incompatible shapes: [100,10] vs. [3,10]\n\t [[Node: truediv_9 = RealDiv[T=DT_FLOAT, _device=\"/job:localhost/replica:0/task:0/cpu:0\"](truediv_8, transpose_4)]]",
      "\nDuring handling of the above exception, another exception occurred:\n",
      "\u001b[0;31mInvalidArgumentError\u001b[0m                      Traceback (most recent call last)",
      "\u001b[0;32m<ipython-input-165-f2f3f715026a>\u001b[0m in \u001b[0;36m<module>\u001b[0;34m()\u001b[0m\n\u001b[1;32m     14\u001b[0m \u001b[0ms\u001b[0m \u001b[0;34m=\u001b[0m \u001b[0mtf\u001b[0m\u001b[0;34m.\u001b[0m\u001b[0mSession\u001b[0m\u001b[0;34m(\u001b[0m\u001b[0;34m)\u001b[0m\u001b[0;34m\u001b[0m\u001b[0m\n\u001b[1;32m     15\u001b[0m \u001b[0ms\u001b[0m\u001b[0;34m.\u001b[0m\u001b[0mrun\u001b[0m\u001b[0;34m(\u001b[0m\u001b[0mtf\u001b[0m\u001b[0;34m.\u001b[0m\u001b[0mglobal_variables_initializer\u001b[0m\u001b[0;34m(\u001b[0m\u001b[0;34m)\u001b[0m\u001b[0;34m)\u001b[0m\u001b[0;34m\u001b[0m\u001b[0m\n\u001b[0;32m---> 16\u001b[0;31m \u001b[0ms\u001b[0m\u001b[0;34m.\u001b[0m\u001b[0mrun\u001b[0m\u001b[0;34m(\u001b[0m\u001b[0mrbf\u001b[0m\u001b[0;34m.\u001b[0m\u001b[0mcost\u001b[0m\u001b[0;34m,\u001b[0m \u001b[0mfeed_dict\u001b[0m\u001b[0;34m=\u001b[0m\u001b[0;34m{\u001b[0m\u001b[0mrbf\u001b[0m\u001b[0;34m.\u001b[0m\u001b[0mx\u001b[0m\u001b[0;34m:\u001b[0m \u001b[0mrand_x_train\u001b[0m\u001b[0;34m,\u001b[0m \u001b[0mrbf\u001b[0m\u001b[0;34m.\u001b[0m\u001b[0mref\u001b[0m\u001b[0;34m:\u001b[0m \u001b[0mrand_y_train\u001b[0m\u001b[0;34m}\u001b[0m\u001b[0;34m)\u001b[0m\u001b[0;34m\u001b[0m\u001b[0m\n\u001b[0m",
      "\u001b[0;32m/usr/lib/python3.6/site-packages/tensorflow/python/client/session.py\u001b[0m in \u001b[0;36mrun\u001b[0;34m(self, fetches, feed_dict, options, run_metadata)\u001b[0m\n\u001b[1;32m    893\u001b[0m     \u001b[0;32mtry\u001b[0m\u001b[0;34m:\u001b[0m\u001b[0;34m\u001b[0m\u001b[0m\n\u001b[1;32m    894\u001b[0m       result = self._run(None, fetches, feed_dict, options_ptr,\n\u001b[0;32m--> 895\u001b[0;31m                          run_metadata_ptr)\n\u001b[0m\u001b[1;32m    896\u001b[0m       \u001b[0;32mif\u001b[0m \u001b[0mrun_metadata\u001b[0m\u001b[0;34m:\u001b[0m\u001b[0;34m\u001b[0m\u001b[0m\n\u001b[1;32m    897\u001b[0m         \u001b[0mproto_data\u001b[0m \u001b[0;34m=\u001b[0m \u001b[0mtf_session\u001b[0m\u001b[0;34m.\u001b[0m\u001b[0mTF_GetBuffer\u001b[0m\u001b[0;34m(\u001b[0m\u001b[0mrun_metadata_ptr\u001b[0m\u001b[0;34m)\u001b[0m\u001b[0;34m\u001b[0m\u001b[0m\n",
      "\u001b[0;32m/usr/lib/python3.6/site-packages/tensorflow/python/client/session.py\u001b[0m in \u001b[0;36m_run\u001b[0;34m(self, handle, fetches, feed_dict, options, run_metadata)\u001b[0m\n\u001b[1;32m   1122\u001b[0m     \u001b[0;32mif\u001b[0m \u001b[0mfinal_fetches\u001b[0m \u001b[0;32mor\u001b[0m \u001b[0mfinal_targets\u001b[0m \u001b[0;32mor\u001b[0m \u001b[0;34m(\u001b[0m\u001b[0mhandle\u001b[0m \u001b[0;32mand\u001b[0m \u001b[0mfeed_dict_tensor\u001b[0m\u001b[0;34m)\u001b[0m\u001b[0;34m:\u001b[0m\u001b[0;34m\u001b[0m\u001b[0m\n\u001b[1;32m   1123\u001b[0m       results = self._do_run(handle, final_targets, final_fetches,\n\u001b[0;32m-> 1124\u001b[0;31m                              feed_dict_tensor, options, run_metadata)\n\u001b[0m\u001b[1;32m   1125\u001b[0m     \u001b[0;32melse\u001b[0m\u001b[0;34m:\u001b[0m\u001b[0;34m\u001b[0m\u001b[0m\n\u001b[1;32m   1126\u001b[0m       \u001b[0mresults\u001b[0m \u001b[0;34m=\u001b[0m \u001b[0;34m[\u001b[0m\u001b[0;34m]\u001b[0m\u001b[0;34m\u001b[0m\u001b[0m\n",
      "\u001b[0;32m/usr/lib/python3.6/site-packages/tensorflow/python/client/session.py\u001b[0m in \u001b[0;36m_do_run\u001b[0;34m(self, handle, target_list, fetch_list, feed_dict, options, run_metadata)\u001b[0m\n\u001b[1;32m   1319\u001b[0m     \u001b[0;32mif\u001b[0m \u001b[0mhandle\u001b[0m \u001b[0;32mis\u001b[0m \u001b[0;32mNone\u001b[0m\u001b[0;34m:\u001b[0m\u001b[0;34m\u001b[0m\u001b[0m\n\u001b[1;32m   1320\u001b[0m       return self._do_call(_run_fn, self._session, feeds, fetches, targets,\n\u001b[0;32m-> 1321\u001b[0;31m                            options, run_metadata)\n\u001b[0m\u001b[1;32m   1322\u001b[0m     \u001b[0;32melse\u001b[0m\u001b[0;34m:\u001b[0m\u001b[0;34m\u001b[0m\u001b[0m\n\u001b[1;32m   1323\u001b[0m       \u001b[0;32mreturn\u001b[0m \u001b[0mself\u001b[0m\u001b[0;34m.\u001b[0m\u001b[0m_do_call\u001b[0m\u001b[0;34m(\u001b[0m\u001b[0m_prun_fn\u001b[0m\u001b[0;34m,\u001b[0m \u001b[0mself\u001b[0m\u001b[0;34m.\u001b[0m\u001b[0m_session\u001b[0m\u001b[0;34m,\u001b[0m \u001b[0mhandle\u001b[0m\u001b[0;34m,\u001b[0m \u001b[0mfeeds\u001b[0m\u001b[0;34m,\u001b[0m \u001b[0mfetches\u001b[0m\u001b[0;34m)\u001b[0m\u001b[0;34m\u001b[0m\u001b[0m\n",
      "\u001b[0;32m/usr/lib/python3.6/site-packages/tensorflow/python/client/session.py\u001b[0m in \u001b[0;36m_do_call\u001b[0;34m(self, fn, *args)\u001b[0m\n\u001b[1;32m   1338\u001b[0m         \u001b[0;32mexcept\u001b[0m \u001b[0mKeyError\u001b[0m\u001b[0;34m:\u001b[0m\u001b[0;34m\u001b[0m\u001b[0m\n\u001b[1;32m   1339\u001b[0m           \u001b[0;32mpass\u001b[0m\u001b[0;34m\u001b[0m\u001b[0m\n\u001b[0;32m-> 1340\u001b[0;31m       \u001b[0;32mraise\u001b[0m \u001b[0mtype\u001b[0m\u001b[0;34m(\u001b[0m\u001b[0me\u001b[0m\u001b[0;34m)\u001b[0m\u001b[0;34m(\u001b[0m\u001b[0mnode_def\u001b[0m\u001b[0;34m,\u001b[0m \u001b[0mop\u001b[0m\u001b[0;34m,\u001b[0m \u001b[0mmessage\u001b[0m\u001b[0;34m)\u001b[0m\u001b[0;34m\u001b[0m\u001b[0m\n\u001b[0m\u001b[1;32m   1341\u001b[0m \u001b[0;34m\u001b[0m\u001b[0m\n\u001b[1;32m   1342\u001b[0m   \u001b[0;32mdef\u001b[0m \u001b[0m_extend_graph\u001b[0m\u001b[0;34m(\u001b[0m\u001b[0mself\u001b[0m\u001b[0;34m)\u001b[0m\u001b[0;34m:\u001b[0m\u001b[0;34m\u001b[0m\u001b[0m\n",
      "\u001b[0;31mInvalidArgumentError\u001b[0m: Incompatible shapes: [100,10] vs. [3,10]\n\t [[Node: truediv_9 = RealDiv[T=DT_FLOAT, _device=\"/job:localhost/replica:0/task:0/cpu:0\"](truediv_8, transpose_4)]]\n\nCaused by op 'truediv_9', defined at:\n  File \"/usr/lib/python3.6/runpy.py\", line 193, in _run_module_as_main\n    \"__main__\", mod_spec)\n  File \"/usr/lib/python3.6/runpy.py\", line 85, in _run_code\n    exec(code, run_globals)\n  File \"/usr/lib/python3.6/site-packages/ipykernel/__main__.py\", line 3, in <module>\n    app.launch_new_instance()\n  File \"/usr/lib/python3.6/site-packages/traitlets/config/application.py\", line 658, in launch_instance\n    app.start()\n  File \"/usr/lib/python3.6/site-packages/ipykernel/kernelapp.py\", line 474, in start\n    ioloop.IOLoop.instance().start()\n  File \"/usr/lib/python3.6/site-packages/zmq/eventloop/ioloop.py\", line 177, in start\n    super(ZMQIOLoop, self).start()\n  File \"/usr/lib/python3.6/site-packages/tornado/ioloop.py\", line 888, in start\n    handler_func(fd_obj, events)\n  File \"/usr/lib/python3.6/site-packages/tornado/stack_context.py\", line 277, in null_wrapper\n    return fn(*args, **kwargs)\n  File \"/usr/lib/python3.6/site-packages/zmq/eventloop/zmqstream.py\", line 440, in _handle_events\n    self._handle_recv()\n  File \"/usr/lib/python3.6/site-packages/zmq/eventloop/zmqstream.py\", line 472, in _handle_recv\n    self._run_callback(callback, msg)\n  File \"/usr/lib/python3.6/site-packages/zmq/eventloop/zmqstream.py\", line 414, in _run_callback\n    callback(*args, **kwargs)\n  File \"/usr/lib/python3.6/site-packages/tornado/stack_context.py\", line 277, in null_wrapper\n    return fn(*args, **kwargs)\n  File \"/usr/lib/python3.6/site-packages/ipykernel/kernelbase.py\", line 276, in dispatcher\n    return self.dispatch_shell(stream, msg)\n  File \"/usr/lib/python3.6/site-packages/ipykernel/kernelbase.py\", line 228, in dispatch_shell\n    handler(stream, idents, msg)\n  File \"/usr/lib/python3.6/site-packages/ipykernel/kernelbase.py\", line 390, in execute_request\n    user_expressions, allow_stdin)\n  File \"/usr/lib/python3.6/site-packages/ipykernel/ipkernel.py\", line 196, in do_execute\n    res = shell.run_cell(code, store_history=store_history, silent=silent)\n  File \"/usr/lib/python3.6/site-packages/ipykernel/zmqshell.py\", line 501, in run_cell\n    return super(ZMQInteractiveShell, self).run_cell(*args, **kwargs)\n  File \"/usr/lib/python3.6/site-packages/IPython/core/interactiveshell.py\", line 2717, in run_cell\n    interactivity=interactivity, compiler=compiler, result=result)\n  File \"/usr/lib/python3.6/site-packages/IPython/core/interactiveshell.py\", line 2821, in run_ast_nodes\n    if self.run_code(code, result):\n  File \"/usr/lib/python3.6/site-packages/IPython/core/interactiveshell.py\", line 2881, in run_code\n    exec(code_obj, self.user_global_ns, self.user_ns)\n  File \"<ipython-input-160-83fb2ffa9cf5>\", line 17, in <module>\n    rho = tf.exp(-d * d / 2 / tf.transpose(rbf.v))\n  File \"/usr/lib/python3.6/site-packages/tensorflow/python/ops/math_ops.py\", line 865, in binary_op_wrapper\n    return func(x, y, name=name)\n  File \"/usr/lib/python3.6/site-packages/tensorflow/python/ops/math_ops.py\", line 960, in _truediv_python3\n    return gen_math_ops._real_div(x, y, name=name)\n  File \"/usr/lib/python3.6/site-packages/tensorflow/python/ops/gen_math_ops.py\", line 1831, in _real_div\n    result = _op_def_lib.apply_op(\"RealDiv\", x=x, y=y, name=name)\n  File \"/usr/lib/python3.6/site-packages/tensorflow/python/framework/op_def_library.py\", line 767, in apply_op\n    op_def=op_def)\n  File \"/usr/lib/python3.6/site-packages/tensorflow/python/framework/ops.py\", line 2630, in create_op\n    original_op=self._default_original_op, op_def=op_def)\n  File \"/usr/lib/python3.6/site-packages/tensorflow/python/framework/ops.py\", line 1204, in __init__\n    self._traceback = self._graph._extract_stack()  # pylint: disable=protected-access\n\nInvalidArgumentError (see above for traceback): Incompatible shapes: [100,10] vs. [3,10]\n\t [[Node: truediv_9 = RealDiv[T=DT_FLOAT, _device=\"/job:localhost/replica:0/task:0/cpu:0\"](truediv_8, transpose_4)]]\n"
     ]
    }
   ],
   "source": [
    "#\n",
    "# Complete the training\n",
    "#\n",
    "\n",
    "batch_size = 100\n",
    "epochs = 400\n",
    "rate = 0.002\n",
    "\n",
    "rand_x_train, rand_y_train = get_training_batch(batch_size)\n",
    "rand_y_train = idx_to_onehot(rand_y_train)\n",
    "\n",
    "optimizer = tf.train.GradientDescentOptimizer(rate).minimize(rbf.cost)\n",
    "\n",
    "s = tf.Session()\n",
    "s.run(tf.global_variables_initializer())\n",
    "s.run(rbf.cost, feed_dict={rbf.x: rand_x_train, rbf.ref: rand_y_train})"
   ]
  },
  {
   "cell_type": "markdown",
   "metadata": {
    "colab_type": "text",
    "id": "6cNb0zYIpsMW"
   },
   "source": [
    "# Question 2.3: Evaluation of RBF\n",
    "\n",
    "Evaluate the trained RBF and compare it with the MLP model in Question 1.3."
   ]
  },
  {
   "cell_type": "code",
   "execution_count": 0,
   "metadata": {
    "colab": {
     "autoexec": {
      "startup": false,
      "wait_interval": 0
     }
    },
    "colab_type": "code",
    "collapsed": true,
    "id": "tbEDX9xpnl0S"
   },
   "outputs": [],
   "source": [
    "#\n",
    "# Complete the code to evaluate the RBF using the test data\n",
    "#"
   ]
  },
  {
   "cell_type": "markdown",
   "metadata": {
    "colab_type": "text",
    "id": "PSDqXxcIp_jH"
   },
   "source": [
    "### Write down your comparison of MLP and RBF classifiers"
   ]
  },
  {
   "cell_type": "markdown",
   "metadata": {
    "colab_type": "text",
    "id": "9mH82D8XmMCS"
   },
   "source": [
    "# Question 2.4: Understanding the RBF\n",
    "\n",
    "We use 10 RBF, and each has a center and a variance.  Since a RBF center is a 2D vector, and the variance is a scalar, you are to *visualize* the centers using a scatter plot.\n",
    "\n",
    "- Plot each RBF as a circle with some fixed radius, or incorporate variance into the radius \n",
    "- Overlay the RBF over the data."
   ]
  },
  {
   "cell_type": "code",
   "execution_count": 0,
   "metadata": {
    "colab": {
     "autoexec": {
      "startup": false,
      "wait_interval": 0
     }
    },
    "colab_type": "code",
    "collapsed": true,
    "id": "WOl6W815qeVp"
   },
   "outputs": [],
   "source": [
    "#\n",
    "# Write the code to visualize the centers of the RBF\n",
    "#"
   ]
  },
  {
   "cell_type": "markdown",
   "metadata": {
    "colab_type": "text",
    "id": "SP687g-TfGDY"
   },
   "source": [
    "# Bonus 1: Decision boundaries for MLP classifier"
   ]
  },
  {
   "cell_type": "code",
   "execution_count": 0,
   "metadata": {
    "colab": {
     "autoexec": {
      "startup": false,
      "wait_interval": 0
     }
    },
    "colab_type": "code",
    "collapsed": true,
    "id": "QjaVJKDUq13E"
   },
   "outputs": [],
   "source": [
    "#\n",
    "# Complete this section\n",
    "#"
   ]
  },
  {
   "cell_type": "markdown",
   "metadata": {
    "colab_type": "text",
    "id": "00NEXCPjfN3l"
   },
   "source": [
    "# Bonus 2: Decision boundaries for RBF classifier"
   ]
  },
  {
   "cell_type": "code",
   "execution_count": 0,
   "metadata": {
    "colab": {
     "autoexec": {
      "startup": false,
      "wait_interval": 0
     }
    },
    "colab_type": "code",
    "collapsed": true,
    "id": "2ZSFoaBwfTkH"
   },
   "outputs": [],
   "source": [
    "#\n",
    "# Complete this section\n",
    "#"
   ]
  },
  {
   "cell_type": "code",
   "execution_count": null,
   "metadata": {
    "collapsed": true
   },
   "outputs": [],
   "source": []
  }
 ],
 "metadata": {
  "colab": {
   "default_view": {},
   "name": "test-2.ipynb",
   "provenance": [],
   "toc_visible": true,
   "version": "0.3.2",
   "views": {}
  },
  "kernelspec": {
   "display_name": "Python 3",
   "language": "python",
   "name": "python3"
  },
  "language_info": {
   "codemirror_mode": {
    "name": "ipython",
    "version": 3
   },
   "file_extension": ".py",
   "mimetype": "text/x-python",
   "name": "python",
   "nbconvert_exporter": "python",
   "pygments_lexer": "ipython3",
   "version": "3.6.2"
  }
 },
 "nbformat": 4,
 "nbformat_minor": 1
}
